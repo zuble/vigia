{
 "cells": [
  {
   "cell_type": "code",
   "execution_count": null,
   "metadata": {},
   "outputs": [],
   "source": [
    "from cfg.default import cfg\n",
    "\n",
    "#print(cfg)\n",
    "\n",
    "cfg_exp = 'cfg/kinetics400/0.yml'\n",
    "cfg.merge_from_file(cfg_exp)\n",
    "cfg.freeze()\n",
    "#print(cfg)\n",
    "run_type = 0  ## 0:train / 1:test\n",
    "DSTXT = cfg.DS.kinetics400_txt[run_type]\n",
    "print(DSTXT)\n",
    "\n",
    "videos = list(open(DSTXT))\n",
    "#for v in videos:print(v)\n",
    "videos = [ v.strip(\"\\n\").split(\" \")[0] for v in videos]\n",
    "#print(videos[400])"
   ]
  },
  {
   "cell_type": "code",
   "execution_count": null,
   "metadata": {},
   "outputs": [],
   "source": [
    "#import sys, os\n",
    "#sys.path.insert(0, os.path.abspath('../python'))\n",
    "import decord as de"
   ]
  },
  {
   "cell_type": "code",
   "execution_count": null,
   "metadata": {},
   "outputs": [],
   "source": [
    "# using cpu in this example\n",
    "ctx = de.cpu(0)\n",
    "\n",
    "shape = (8, 480, 640, 3)\n",
    "videos = videos[32000:32010]\n",
    "interval = 5 ## amount of frames to jump in-batch\n",
    "# using inter-batch frame interval 20, which means batch-batch interval is 20\n",
    "skip = 10   ## amount of frames to jump betwen batchs"
   ]
  },
  {
   "cell_type": "code",
   "execution_count": null,
   "metadata": {},
   "outputs": [],
   "source": [
    "# first see how sequential read looks like\n",
    "vl = de.VideoLoader(videos, ctx=ctx, shape=shape, interval=interval, skip=skip, shuffle=0)\n",
    "print('num batches:', len(vl))"
   ]
  },
  {
   "cell_type": "code",
   "execution_count": null,
   "metadata": {},
   "outputs": [],
   "source": [
    "def disp_batches(video_loader, max_disp=5):\n",
    "    from matplotlib import pyplot as plt\n",
    "    import matplotlib.gridspec as gridspec\n",
    "    cnt = 0\n",
    "    vl.reset()\n",
    "    for batch in vl:\n",
    "        if cnt >= max_disp:\n",
    "            break\n",
    "        print('batch data shape:', batch[0].shape)\n",
    "        print('indices:', ', '.join(['(file: {} frame: {})'.format(x, y) for x, y in batch[1].asnumpy()]))\n",
    "        print('----------')\n",
    "        data = batch[0].asnumpy()\n",
    "        columns = 4\n",
    "        rows = max(1, (data.shape[0] + 1) // columns)\n",
    "        fig = plt.figure(figsize = (32,(16 // columns) * rows))\n",
    "        gs = gridspec.GridSpec(rows, columns)\n",
    "        for i in range(data.shape[0]):\n",
    "            plt.subplot(gs[i])\n",
    "            plt.axis(\"off\")\n",
    "            plt.imshow(data[i])\n",
    "        cnt += 1\n",
    "disp_batches(vl, 10)"
   ]
  },
  {
   "attachments": {},
   "cell_type": "markdown",
   "metadata": {},
   "source": [
    "So video loader smoothly loaded batches from two videos, and let's shuffle the scenes"
   ]
  },
  {
   "cell_type": "code",
   "execution_count": null,
   "metadata": {},
   "outputs": [],
   "source": [
    "vl = de.VideoLoader(videos, ctx=ctx, shape=shape, interval=interval, skip=skip, shuffle=1)\n",
    "print('num batches:', len(vl))\n",
    "disp_batches(vl, 10)"
   ]
  },
  {
   "attachments": {},
   "cell_type": "markdown",
   "metadata": {},
   "source": [
    "#### single debug"
   ]
  },
  {
   "cell_type": "code",
   "execution_count": 4,
   "metadata": {},
   "outputs": [
    {
     "name": "stdout",
     "output_type": "stream",
     "text": [
      "vr: 55\n",
      "(320, 568, 3)\n",
      "(320, 568, 3)\n",
      "(320, 568, 3)\n",
      "(320, 568, 3)\n",
      "(320, 568, 3)\n",
      "(320, 568, 3)\n",
      "(320, 568, 3)\n",
      "(320, 568, 3)\n",
      "(320, 568, 3)\n",
      "(320, 568, 3)\n",
      "(320, 568, 3)\n",
      "(320, 568, 3)\n",
      "(320, 568, 3)\n",
      "(320, 568, 3)\n",
      "(320, 568, 3)\n",
      "(320, 568, 3)\n",
      "(320, 568, 3)\n",
      "(320, 568, 3)\n",
      "(320, 568, 3)\n",
      "(320, 568, 3)\n",
      "(320, 568, 3)\n",
      "(320, 568, 3)\n",
      "(320, 568, 3)\n",
      "(320, 568, 3)\n",
      "(320, 568, 3)\n",
      "(320, 568, 3)\n",
      "(320, 568, 3)\n",
      "(320, 568, 3)\n",
      "(320, 568, 3)\n",
      "(320, 568, 3)\n",
      "(320, 568, 3)\n",
      "(320, 568, 3)\n",
      "(320, 568, 3)\n",
      "(320, 568, 3)\n",
      "(320, 568, 3)\n",
      "(320, 568, 3)\n",
      "(320, 568, 3)\n",
      "(320, 568, 3)\n",
      "(320, 568, 3)\n",
      "(320, 568, 3)\n",
      "(320, 568, 3)\n",
      "(320, 568, 3)\n",
      "(320, 568, 3)\n",
      "(320, 568, 3)\n",
      "(320, 568, 3)\n",
      "(320, 568, 3)\n",
      "(320, 568, 3)\n",
      "(320, 568, 3)\n",
      "(320, 568, 3)\n",
      "(320, 568, 3)\n",
      "(320, 568, 3)\n",
      "(320, 568, 3)\n",
      "(320, 568, 3)\n",
      "(320, 568, 3)\n",
      "(320, 568, 3)\n",
      "vr2: 55\n"
     ]
    }
   ],
   "source": [
    "import decord as de\n",
    "ctx = de.cpu(0)\n",
    "\n",
    "path = '/media/jtstudents/T77/kinetics400/videos_train/cracking_neck/13pZJ_w0R88.mp4'\n",
    "vr = de.VideoReader(path, ctx=ctx)\n",
    "print('vr:', len(vr))\n",
    "for i in range(len(vr)):\n",
    "    frame = vr[i]\n",
    "    print(frame.shape)\n",
    "\n",
    "\n",
    "with open(path, 'rb') as f:\n",
    "  vr2 = de.VideoReader(f, ctx)\n",
    "print('vr2:', len(vr2))\n",
    "\n",
    "\n"
   ]
  },
  {
   "cell_type": "code",
   "execution_count": 3,
   "metadata": {},
   "outputs": [],
   "source": [
    "import tensorflow as tf\n",
    "import matplotlib.pyplot as plt\n",
    "\n",
    "titanic_file = tf.keras.utils.get_file(\"train.csv\", \"https://storage.googleapis.com/tf-datasets/titanic/train.csv\")\n",
    "titanic_lines = tf.data.TextLineDataset(titanic_file)\n",
    "\n",
    "def plot_batch_sizes(ds):\n",
    "  batch_sizes = [batch.shape[0] for batch in ds]\n",
    "  plt.bar(range(len(batch_sizes)), batch_sizes)\n",
    "  plt.xlabel('Batch number')\n",
    "  plt.ylabel('Batch size')"
   ]
  },
  {
   "cell_type": "code",
   "execution_count": 4,
   "metadata": {},
   "outputs": [
    {
     "data": {
      "image/png": "[encoded data removed]",
      "text/plain": [
       "<Figure size 640x480 with 1 Axes>"
      ]
     },
     "metadata": {},
     "output_type": "display_data"
    }
   ],
   "source": [
    "titanic_batches = titanic_lines.repeat(3).batch(128)\n",
    "plot_batch_sizes(titanic_batches)\n"
   ]
  },
  {
   "cell_type": "code",
   "execution_count": 5,
   "metadata": {},
   "outputs": [
    {
     "data": {
      "image/png": "[encoded data removed]",
      "text/plain": [
       "<Figure size 640x480 with 1 Axes>"
      ]
     },
     "metadata": {},
     "output_type": "display_data"
    }
   ],
   "source": [
    "titanic_batches = titanic_lines.batch(128).repeat(3)\n",
    "plot_batch_sizes(titanic_batches)\n"
   ]
  },
  {
   "cell_type": "code",
   "execution_count": 6,
   "metadata": {},
   "outputs": [
    {
     "name": "stdout",
     "output_type": "stream",
     "text": [
      "(128,)\n",
      "(128,)\n",
      "(128,)\n",
      "(128,)\n",
      "(116,)\n",
      "End of epoch:  0\n",
      "(128,)\n",
      "(128,)\n",
      "(128,)\n",
      "(128,)\n",
      "(116,)\n",
      "End of epoch:  1\n",
      "(128,)\n",
      "(128,)\n",
      "(128,)\n",
      "(128,)\n",
      "(116,)\n",
      "End of epoch:  2\n"
     ]
    }
   ],
   "source": [
    "epochs = 3\n",
    "dataset = titanic_lines.batch(128)\n",
    "\n",
    "for epoch in range(epochs):\n",
    "  for batch in dataset:\n",
    "    print(batch.shape)\n",
    "  print(\"End of epoch: \", epoch)\n"
   ]
  }
 ],
 "metadata": {
  "kernelspec": {
   "display_name": "Python 3",
   "language": "python",
   "name": "python3"
  },
  "language_info": {
   "codemirror_mode": {
    "name": "ipython",
    "version": 3
   },
   "file_extension": ".py",
   "mimetype": "text/x-python",
   "name": "python",
   "nbconvert_exporter": "python",
   "pygments_lexer": "ipython3",
   "version": "3.8.15"
  }
 },
 "nbformat": 4,
 "nbformat_minor": 2
}
