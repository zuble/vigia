{
 "cells": [
  {
   "cell_type": "code",
   "execution_count": null,
   "metadata": {},
   "outputs": [],
   "source": [
    "import os , argparse\n",
    "import src.utils.setup as setup\n",
    "from train import train\n",
    "import tensorflow as tf\n",
    "from decord import VideoLoader, VideoReader , cpu , gpu\n",
    "from decord.bridge import set_bridge\n",
    "import numpy as np\n",
    "\n",
    "parser = argparse.ArgumentParser(description='zulowfat')\n",
    "parser.add_argument('--experiment', \n",
    "                    type=str, \n",
    "                    default='cfgs/kinetics400/slowfast.yml', \n",
    "                    help='relative path to the experiment .yml')\n",
    "ARGS = parser.parse_args(args=[])\n",
    "cfg = setup.init(ARGS)"
   ]
  },
  {
   "cell_type": "code",
   "execution_count": null,
   "metadata": {},
   "outputs": [],
   "source": [
    "from src.data.dataloader import InputReader\n",
    "from src.data.utils import get_frames_idx\n",
    "\n",
    "IR= InputReader(cfg,'train')\n",
    "dstxt=IR.dstxt\n",
    "\n",
    "line = next(iter(dstxt))\n",
    "print(line)\n",
    "\n",
    "for step, line in enumerate(dstxt):\n",
    "    print(line)\n",
    "    if step == 2: break"
   ]
  },
  {
   "cell_type": "code",
   "execution_count": null,
   "metadata": {},
   "outputs": [],
   "source": [
    "get_frames_idx(100,32,2)"
   ]
  },
  {
   "cell_type": "code",
   "execution_count": null,
   "metadata": {},
   "outputs": [],
   "source": [
    "import os , time\n",
    "os.environ['TF_CPP_MIN_LOG_LEVEL'] = '3'\n",
    "os.environ[\"CUDA_VISIBLE_DEVICES\"] = '2'\n",
    "import tensorflow as tf\n",
    "import matplotlib.pyplot as plt\n",
    "\n",
    "def random_short_side_resize(clips, min_size, max_size):\n",
    "    size = tf.random.uniform([], min_size, max_size, tf.float32)\n",
    "    num_views = tf.shape(clips)[0]\n",
    "\n",
    "    height = tf.cast(tf.shape(clips)[2], tf.float32)\n",
    "    width = tf.cast(tf.shape(clips)[3], tf.float32)\n",
    "    \n",
    "    if (width <= height and width == size) or (\n",
    "        height <= width and height == size):\n",
    "        return clips\n",
    "    new_width = size\n",
    "    new_height = size\n",
    "    if width < height:\n",
    "      new_height = tf.math.floor((height / width) * size)\n",
    "    else:\n",
    "      new_width = tf.math.floor((width / height) * size)\n",
    "\n",
    "    new_height = tf.cast(new_height, tf.int32)\n",
    "    new_width = tf.cast(new_width, tf.int32)\n",
    "\n",
    "    frames = [tf.image.resize(clips[i], [new_height, new_width])for i in range(num_views)]\n",
    "    frames = tf.stack(frames, 0)\n",
    "    frames.set_shape([None, *frames.shape[1:]])\n",
    "\n",
    "    return tf.cast(frames, clips.dtype)\n",
    "\n",
    "def normalize(clips, mean, std, norm_value=255):\n",
    "    clips = tf.cast(clips, tf.float32)\n",
    "    mean = tf.cast(mean, tf.float32)\n",
    "    std = tf.cast(std, tf.float32)\n",
    "    \n",
    "    ## bs * nclips * crop * crop * 3\n",
    "    shapes = tf.shape(clips)\n",
    "    all_frames = tf.reshape(clips, [-1, shapes[-3], shapes[-2], shapes[-1]])\n",
    "    ## nclips * crop * crop * 3\n",
    "    all_frames /= norm_value\n",
    "    \n",
    "    def _normalize(frame, mean, std):\n",
    "        frame = frame - mean\n",
    "        return frame / std\n",
    "    \n",
    "    all_frames = tf.vectorized_map(\n",
    "        lambda x: _normalize(x, mean, std),\n",
    "        all_frames\n",
    "    )\n",
    "    print(\"Min and max pixel values:\", all_frames.numpy().min(), all_frames.numpy().max())\n",
    "\n",
    "    ## bs * nclips * crop * crop * 3\n",
    "    return tf.reshape(all_frames, tf.shape(clips))\n",
    "\n",
    "x = tf.random.uniform((1, 256, 320, 270, 3),maxval=255,dtype=tf.int32)\n",
    "plt.imshow(tf.squeeze(x)[0])\n",
    "\n",
    "#res_frames = random_short_side_resize(x,256,320)"
   ]
  },
  {
   "cell_type": "code",
   "execution_count": null,
   "metadata": {},
   "outputs": [],
   "source": [
    "t = time.time()\n",
    "frames = normalize(x , [0.45, 0.45, 0.45] , [0.225, 0.225, 0.225])\n",
    "plt.imshow(tf.squeeze(frames)[0])\n",
    "tt = time.time()\n",
    "print(str(tt-t))"
   ]
  },
  {
   "cell_type": "code",
   "execution_count": null,
   "metadata": {},
   "outputs": [],
   "source": [
    "p = 0.5\n",
    "r = tf.random.uniform([],maxval=1)\n",
    "if r > p: print(r.numpy())\n",
    "else: print(r.numpy())"
   ]
  }
 ],
 "metadata": {
  "kernelspec": {
   "display_name": "JRocha_venv",
   "language": "python",
   "name": "python3"
  },
  "language_info": {
   "codemirror_mode": {
    "name": "ipython",
    "version": 3
   },
   "file_extension": ".py",
   "mimetype": "text/x-python",
   "name": "python",
   "nbconvert_exporter": "python",
   "pygments_lexer": "ipython3",
   "version": "3.8.16"
  },
  "orig_nbformat": 4
 },
 "nbformat": 4,
 "nbformat_minor": 2
}
