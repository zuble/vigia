{
 "cells": [
  {
   "cell_type": "code",
   "execution_count": null,
   "metadata": {},
   "outputs": [],
   "source": [
    "import os , numpy as np\n",
    "\n",
    "## path to the Videos root folder \n",
    "## this is will be os.path.join into the original splita\n",
    "UCFCRIME_BASE_VPATH_DIR = '/raid/DATASETS/anomaly/UCF_Crimes/videos/Videos'\n",
    "\n",
    "\n",
    "## OFFICIAL SPLITS\n",
    "UCFCRIME_TEST_SPLIT = '/raid/DATASETS/anomaly/UCF_Crimes/videos/Anomaly_Detection_splits/Anomaly_Test.txt'\n",
    "UCFCRIME_TRAIN_SPLIT = '/raid/DATASETS/anomaly/UCF_Crimes/videos/Anomaly_Detection_splits/Anomaly_Train.txt'\n",
    "\n",
    "UCFCRIME_TRAIN_NORMAL_VLIST = 'train_normal.list'\n",
    "UCFCRIME_TRAIN_ABNORMAL_VLIST = 'train_abnormal.list'\n",
    "UCFCRIME_TEST_VLIST = 'test.list'\n",
    "\n",
    "\n",
    "'''\n",
    "    from official train_splits , creates train_abnormal , train_normal vpaths lists\n",
    "    from official test_splits , creates a test vpaths list with normal vpaths by last\n",
    "'''\n",
    "\n",
    "def save_in2_list(list_path , aa):\n",
    "    with open(list_path, 'w+') as f:\n",
    "        for a in aa:\n",
    "            #print(f'{a}')\n",
    "            newline = a+'\\n'\n",
    "            f.write(newline)"
   ]
  },
  {
   "cell_type": "code",
   "execution_count": null,
   "metadata": {},
   "outputs": [],
   "source": [
    "train_split = list(open(UCFCRIME_TRAIN_SPLIT))\n",
    "\n",
    "train_normal , train_abnormal = [] , []\n",
    "for line in train_split:\n",
    "    line = line.strip(\"\\n\")\n",
    "    vpath = os.path.join(UCFCRIME_BASE_VPATH_DIR,line)\n",
    "    \n",
    "    if 'Normal' in line: train_normal.append(vpath)\n",
    "    else: train_abnormal.append(vpath)\n",
    "\n",
    "print(np.shape(train_split),\"normal\",len(train_normal),\"abnormal\",len(train_abnormal))\n",
    "\n",
    "save_in2_list(UCFCRIME_TRAIN_NORMAL_VLIST , train_normal)\n",
    "save_in2_list(UCFCRIME_TRAIN_ABNORMAL_VLIST , train_abnormal)"
   ]
  },
  {
   "cell_type": "code",
   "execution_count": null,
   "metadata": {},
   "outputs": [],
   "source": [
    "test_split = list(open(UCFCRIME_TEST_SPLIT))\n",
    "\n",
    "test , aaa = [] , []\n",
    "for line in test_split:\n",
    "    line = line.strip(\"\\n\")\n",
    "    vpath = os.path.join(UCFCRIME_BASE_VPATH_DIR,line)\n",
    "    \n",
    "    if 'Normal' in line: aaa.append(vpath)\n",
    "    else: test.append(vpath)\n",
    "    \n",
    "test.extend(aaa)\n",
    "#for t in test: print(t)\n",
    "print(np.shape(test_split),test[139],test[140])\n",
    "save_in2_list(UCFCRIME_TEST_VLIST , test)"
   ]
  }
 ],
 "metadata": {
  "language_info": {
   "name": "python"
  },
  "orig_nbformat": 4
 },
 "nbformat": 4,
 "nbformat_minor": 2
}
