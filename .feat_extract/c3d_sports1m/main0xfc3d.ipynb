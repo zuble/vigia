{
 "cells": [
  {
   "cell_type": "code",
   "execution_count": null,
   "metadata": {},
   "outputs": [],
   "source": [
    "import globo , os\n",
    "import numpy as np\n",
    "from utils import *\n",
    "import c3d\n",
    "from sklearn.preprocessing import normalize\n",
    "\n",
    "\n",
    "'''\n",
    "    Iterates over all UCF Crime video folders (train_0 , train_1 , test)\n",
    "    Divide in each video into snippets of 16 frames \n",
    "    Process each snippet trough c3dsports1m model\n",
    "    Saves a .npy file per video\n",
    "'''"
   ]
  },
  {
   "cell_type": "code",
   "execution_count": null,
   "metadata": {},
   "outputs": [],
   "source": [
    "feature_extractor = c3d.c3d_feature_extractor()\n",
    "\n",
    "for type, dir in globo.UCFCRIME_VPATHS_LISTS.items():\n",
    "\n",
    "    vpaths = list(open(dir))\n",
    "    \n",
    "    print(f'\\n****************\\n\\nProcessing {type} @ {dir}\\n\\n{len(vpaths)} vids')\n",
    "    \n",
    "    for i, vpath in enumerate(vpaths):\n",
    "        \n",
    "        vpath = vpath.strip('\\n')\n",
    "        fn = os.path.splitext(os.path.basename(vpath))[0]\n",
    "        print(f'\\n{i} {fn}.mp4\\n')\n",
    "\n",
    "        out_npy = os.path.join(globo.UCFCRIME_FEATC3D[type], fn + \".npy\")\n",
    "        if os.path.exists(out_npy):\n",
    "            print(out_npy,\"already created\")\n",
    "            continue\n",
    "            \n",
    "        ## divide in2 snippets of 16\n",
    "        clips, frames = get_video_clips(vpath)\n",
    "        \n",
    "        ## preprocess 4 c3d\n",
    "        prep_clips = [c3d.preprocess_input(np.array(clip)) for clip in clips]\n",
    "        prep_clips = np.vstack(prep_clips)\n",
    "        print(f'\\n\\tPREP {np.shape(prep_clips)}\\n\\t( {np.shape(prep_clips)[0]} clips , {np.shape(prep_clips)[1]} frames , {np.shape(prep_clips)[2:]} resolution )')\n",
    "        \n",
    "        ## get them features\n",
    "        features = feature_extractor.predict(prep_clips)\n",
    "        features = normalize(features, axis=1)\n",
    "        print(f'\\n\\tFEAT {np.shape(features)}\\n\\t( {np.shape(features)[0]} timesteps , {np.shape(features)[1]} features )')\n",
    "        \n",
    "        #np.save(out_npy, features)\n",
    "        print(f'\\n\\tsaved @ {out_npy}')\n",
    "        break"
   ]
  }
 ],
 "metadata": {
  "kernelspec": {
   "display_name": "zugpu",
   "language": "python",
   "name": "python3"
  },
  "language_info": {
   "codemirror_mode": {
    "name": "ipython",
    "version": 3
   },
   "file_extension": ".py",
   "mimetype": "text/x-python",
   "name": "python",
   "nbconvert_exporter": "python",
   "pygments_lexer": "ipython3",
   "version": "3.8.15"
  },
  "orig_nbformat": 4
 },
 "nbformat": 4,
 "nbformat_minor": 2
}
