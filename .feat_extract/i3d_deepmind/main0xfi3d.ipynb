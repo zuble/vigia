{
 "cells": [
  {
   "cell_type": "code",
   "execution_count": null,
   "metadata": {},
   "outputs": [],
   "source": [
    "import numpy as np\n",
    "import tensorflow as tf\n",
    "import i3d"
   ]
  },
  {
   "cell_type": "code",
   "execution_count": null,
   "metadata": {},
   "outputs": [],
   "source": [
    "# Input shape: (batch_size, num_frames, height, width, num_channels)\n",
    "input_shape = (None, 79, 224, 224, 3)  # Adjust as needed\n",
    "\n",
    "# Initialize the I3D model\n",
    "model = i3d.InceptionI3d(final_endpoint='Mixed_5c')  # 'Mixed_5c' for RGB, 'Logits' for RGB+Flow\n",
    "model.build(input_shape)\n",
    "\n",
    "# Download and load the pre-trained weights (RGB model)\n",
    "weights_url = \"https://storage.googleapis.com/deepmind-kinetics-i3d-data/checkpoints/rgb_imagenet/model.ckpt\"\n",
    "weights_path = tf.keras.utils.get_file(\"model.ckpt\", weights_url, cache_subdir=\"i3d_weights\")\n",
    "model.load_weights(weights_path)\n"
   ]
  },
  {
   "cell_type": "code",
   "execution_count": null,
   "metadata": {},
   "outputs": [],
   "source": [
    "video_data = np.random.rand(79, 224, 224, 3)"
   ]
  },
  {
   "cell_type": "code",
   "execution_count": null,
   "metadata": {},
   "outputs": [],
   "source": [
    "features = model(tf.expand_dims(video_data, axis=0))\n",
    "features = tf.squeeze(features, axis=[0, 2, 3, 4]).numpy()\n",
    "print(\"Extracted features shape:\", features.shape)"
   ]
  }
 ],
 "metadata": {
  "kernelspec": {
   "display_name": "zugpu",
   "language": "python",
   "name": "python3"
  },
  "language_info": {
   "codemirror_mode": {
    "name": "ipython",
    "version": 3
   },
   "file_extension": ".py",
   "mimetype": "text/x-python",
   "name": "python",
   "nbconvert_exporter": "python",
   "pygments_lexer": "ipython3",
   "version": "3.8.15"
  },
  "orig_nbformat": 4
 },
 "nbformat": 4,
 "nbformat_minor": 2
}
