{
 "cells": [
  {
   "cell_type": "code",
   "execution_count": 1,
   "metadata": {},
   "outputs": [
    {
     "name": "stdout",
     "output_type": "stream",
     "text": [
      "1.0010454654693604\n",
      "1.0010473728179932\n",
      "1.0010404586791992\n",
      "1.0010261535644531\n",
      "1.0006818771362305\n",
      "1.001025676727295\n",
      "1.0010426044464111\n",
      "1.0010371208190918\n",
      "1.0010435581207275\n",
      "1.0010502338409424\n",
      "10011293042ola\n"
     ]
    }
   ],
   "source": [
    "import time\n",
    "\n",
    "start_time = time.time_ns()\n",
    "\n",
    "for i in range(10):\n",
    "    start_predict = time.time()\n",
    "    time.sleep(1)\n",
    "    end_predict = time.time()\n",
    "    print(str(end_predict-start_predict))\n",
    "    \n",
    "end_time = time.time_ns()\n",
    "print(str(end_time-start_time)+\"ola\")\n",
    "\n",
    "test1 = []"
   ]
  },
  {
   "cell_type": "markdown",
   "metadata": {},
   "source": [
    "**.predict()** : generates output predictions based on the input you pass it (for example, the predicted characters in the MNIST example)\n",
    "\n",
    "**.evaluate()** : computes the loss based on the input you pass it, along with any other metrics that you requested in the metrics param when you compiled your model (such as accuracy in the MNIST example)\n",
    "\n",
    "        model.compile(loss='categorical_crossentropy', \n",
    "        optimizer=RMSprop(), \n",
    "        metrics=['accuracy']) \n",
    "        history = model.fit(x_train, y_train, \n",
    "        batch_size=batch_size, \n",
    "        epochs=epochs, \n",
    "        verbose=1, \n",
    "        validation_data=(x_test, y_test)) \n",
    "        \n",
    "        predictions = model.predict(x_test) \n",
    "        print('First prediction:', predictions[0]) \n",
    "        \n",
    "        score = model.evaluate(x_test, y_test, verbose=0) \n",
    "        print('Test loss:', score[0]) \n",
    "        print('Test accuracy:', score[1]) "
   ]
  }
 ],
 "metadata": {
  "kernelspec": {
   "display_name": "Python 3.9.13 ('xdviol')",
   "language": "python",
   "name": "python3"
  },
  "language_info": {
   "codemirror_mode": {
    "name": "ipython",
    "version": 3
   },
   "file_extension": ".py",
   "mimetype": "text/x-python",
   "name": "python",
   "nbconvert_exporter": "python",
   "pygments_lexer": "ipython3",
   "version": "3.9.13"
  },
  "orig_nbformat": 4,
  "vscode": {
   "interpreter": {
    "hash": "cbf2cf3371c40a5194db4d6367c80bdb9d7008a34308a82215655e1d1b602d5a"
   }
  }
 },
 "nbformat": 4,
 "nbformat_minor": 2
}
