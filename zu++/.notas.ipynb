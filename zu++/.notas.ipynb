{
 "cells": [
  {
   "cell_type": "markdown",
   "metadata": {},
   "source": [
    "**.predict()** : generates output predictions based on the input you pass it (for example, the predicted characters in the MNIST example)\n",
    "\n",
    "**.evaluate()** : computes the loss based on the input you pass it, along with any other metrics that you requested in the metrics param when you compiled your model (such as accuracy in the MNIST example)\n",
    "\n",
    "        model.compile(loss='categorical_crossentropy', \n",
    "        optimizer=RMSprop(), \n",
    "        metrics=['accuracy']) \n",
    "        history = model.fit(x_train, y_train, \n",
    "        batch_size=batch_size, \n",
    "        epochs=epochs, \n",
    "        verbose=1, \n",
    "        validation_data=(x_test, y_test)) \n",
    "        \n",
    "        predictions = model.predict(x_test) \n",
    "        print('First prediction:', predictions[0]) \n",
    "        \n",
    "        score = model.evaluate(x_test, y_test, verbose=0) \n",
    "        print('Test loss:', score[0]) \n",
    "        print('Test accuracy:', score[1]) "
   ]
  },
  {
   "cell_type": "markdown",
   "metadata": {},
   "source": [
    "E com tal mudança no agrupando dos frames em relacao ao ultima batch (bt=1 vs 2), observa-se:\n",
    "        \n",
    "- maior dificuldade em distinguir corretamente videos normais [ < TN (pred=0/true=0) ]\n",
    "- aumento das predicoes de anomalia quando o video é normal [ > FP (pred=1/true=0) ]\n",
    "\n",
    "Uma transicao de True Negativo para Falso Positivo. \n",
    "\n",
    "Os casos de Positivo mantiveram-se constantes entre os dois casos.\n",
    "\n",
    "\n",
    "\n",
    "![Alt text](../zhen++/parameters_results/1625759299.9331803_2_4_8_xdviolence_model_weights_CM1.png)\n",
    "![Alt text](../zhen++/parameters_results/1625759299.9331803_2_4_8_xdviolence_model_weights_CM2.png)\n",
    "\n",
    "***\n",
    "\n",
    "![Alt text](../zhen++/parameters_results/1626306295.6228774_2_4_8_xdviolence_model_weights_CM1.png)![Alt text](../zhen++/parameters_results/1626306295.6228774_2_4_8_xdviolence_model_weights_CM2.png)\n",
    "\n",
    "***\n",
    "\n",
    "![Alt text](../zhen++/parameters_results/1626691755.4069657_2_4_8_xdviolence_model_weights_CM1.png)![Alt text](../zhen++/parameters_results/1626691755.4069657_2_4_8_xdviolence_model_weights_CM2.png)\n",
    "\n",
    "***\n",
    "\n",
    "![Alt text](../zhen++/parameters_results/1626947956.798592_2_4_8_xdviolence_model_weights_CM1.png)![Alt text](../zhen++/parameters_results/1626947956.798592_2_4_8_xdviolence_model_weights_CM2.png)\n",
    "\n",
    "***\n",
    "\n",
    "![Alt text](../zhen++/parameters_results/1627169149.3222094_2_4_8_xdviolence_model_weights_CM1.png)![Alt text](../zhen++/parameters_results/1627169149.3222094_2_4_8_xdviolence_model_weights_CM2.png)\n",
    "\n",
    "***\n",
    "\n",
    "![Alt text](../zhen++/parameters_results/1627553113.262731_2_4_8_xdviolence_model_weights_CM1.png)![Alt text](../zhen++/parameters_results/1627553113.262731_2_4_8_xdviolence_model_weights_CM2.png)\n",
    "\n",
    "***\n",
    "\n",
    "![Alt text](../zhen++/parameters_results/1627900597.7432737_2_4_8_xdviolence_model_weights_CM1.png)![Alt text](../zhen++/parameters_results/1627900597.7432737_2_4_8_xdviolence_model_weights_CM2.png)"
   ]
  }
 ],
 "metadata": {
  "kernelspec": {
   "display_name": "Python 3.6.13 ('zhen_gpu')",
   "language": "python",
   "name": "python3"
  },
  "language_info": {
   "codemirror_mode": {
    "name": "ipython",
    "version": 3
   },
   "file_extension": ".py",
   "mimetype": "text/x-python",
   "name": "python",
   "nbconvert_exporter": "python",
   "pygments_lexer": "ipython3",
   "version": "3.6.13"
  },
  "orig_nbformat": 4,
  "vscode": {
   "interpreter": {
    "hash": "6eb85c0477d574fd6bdabb52dbe9212bb7f487155853edb797b76ac4297f2c9e"
   }
  }
 },
 "nbformat": 4,
 "nbformat_minor": 2
}
