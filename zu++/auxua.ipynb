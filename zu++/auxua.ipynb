{
 "cells": [
  {
   "cell_type": "code",
   "execution_count": null,
   "metadata": {},
   "outputs": [],
   "source": [
    "import auxua"
   ]
  },
  {
   "cell_type": "code",
   "execution_count": null,
   "metadata": {},
   "outputs": [],
   "source": [
    "\"\"\" PATH VAR \"\"\"\n",
    "\n",
    "ssh4wd = True#False#\n",
    "zu = True#False#\n",
    "\n",
    "if ssh4wd:\n",
    "    base_vigia_dir = \"/raid/DATASETS/.zuble/vigia\"\n",
    "\n",
    "    server_trainame_folder = '/raid/DATASETS/anomaly/XD_Violence/training/'\n",
    "    server_testname_folder = '/raid/DATASETS/anomaly/XD_Violence/testing'\n",
    "else:\n",
    "    base_vigia_dir = \"/media/jtstudents/HDD/.zuble/vigia\"\n",
    "\n",
    "    #server_trainame_folder = '/home/zhen/Documents/Remote/raid/DATASETS/anomaly/UCF_Crimes/Videos'\n",
    "    server_trainame_folder = '/media/jtstudents/HDD/.zuble/xdviol/train'\n",
    "    server_testname_folder = '/media/jtstudents/HDD/.zuble/xdviol/test'\n",
    "    \n",
    "if zu:\n",
    "    model_path = base_vigia_dir+'/zu++/model/model/'\n",
    "    ckpt_path = base_vigia_dir+'/zu++/model/ckpt/'\n",
    "    hist_path = base_vigia_dir+'/zu++/model/hist/'\n",
    "\n",
    "    rslt_path = base_vigia_dir+'/zu++/model/rslt/'\n",
    "    weights_path = base_vigia_dir+'/zu++/model/weights/'\n",
    "else:\n",
    "    weights_path = base_vigia_dir+\"/zhen++/parameters_saved\"\n",
    "    rslt_path = base_vigia_dir+'zhen++/parameters_results/original_bt'"
   ]
  },
  {
   "cell_type": "code",
   "execution_count": null,
   "metadata": {},
   "outputs": [],
   "source": [
    "auxua.get_histplot_from_csv(hist_path,True)"
   ]
  }
 ],
 "metadata": {
  "kernelspec": {
   "display_name": "zugpu",
   "language": "python",
   "name": "python3"
  },
  "language_info": {
   "codemirror_mode": {
    "name": "ipython",
    "version": 3
   },
   "file_extension": ".py",
   "mimetype": "text/x-python",
   "name": "python",
   "nbconvert_exporter": "python",
   "pygments_lexer": "ipython3",
   "version": "3.8.15"
  },
  "orig_nbformat": 4
 },
 "nbformat": 4,
 "nbformat_minor": 2
}
