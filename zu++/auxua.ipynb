{
 "cells": [
  {
   "cell_type": "code",
   "execution_count": 7,
   "metadata": {},
   "outputs": [],
   "source": [
    "import utils.auxua as aux\n",
    "import neptune, logging, os"
   ]
  },
  {
   "cell_type": "code",
   "execution_count": 9,
   "metadata": {},
   "outputs": [
    {
     "name": "stdout",
     "output_type": "stream",
     "text": [
      "Num GPUs Available:  4\n",
      "PhysicalDevice(name='/physical_device:GPU:0', device_type='GPU')\n",
      "PhysicalDevice(name='/physical_device:GPU:1', device_type='GPU')\n",
      "PhysicalDevice(name='/physical_device:GPU:2', device_type='GPU')\n",
      "PhysicalDevice(name='/physical_device:GPU:3', device_type='GPU')\n"
     ]
    }
   ],
   "source": [
    "''' tf log level & neptune'''\n",
    "\n",
    "aux.set_tf_loglevel(logging.ERROR)\n",
    "\n",
    "\n",
    "#with open('/raid/DATASETS/.zuble/.nept', 'r') as file:nept = file.read()\n",
    "#run = neptune.init_run( api_token=nept, project=\"vigia/base\")\n",
    "#project = neptune.init_project(project=\"vigia/base\", api_token=nept)"
   ]
  },
  {
   "cell_type": "code",
   "execution_count": 10,
   "metadata": {},
   "outputs": [
    {
     "name": "stdout",
     "output_type": "stream",
     "text": [
      "OPENING /raid/DATASETS/.zuble/vigia/zu++/model/rslt/1670428387.3704295_3gelu_sgd_0_4000_weights.txt\n",
      "OPENING /raid/DATASETS/.zuble/vigia/zu++/model/rslt/1671124357.725051_3gelu_adam_0_4000_weights.txt\n",
      "OPENING /raid/DATASETS/.zuble/vigia/zu++/model/rslt/1671124367.446378_3gelu_adamamsgrad_0_4000_weights.txt\n",
      "OPENING /raid/DATASETS/.zuble/vigia/zu++/model/rslt/1676724247.3618405_leakyrelu_adam_0_2000_weights.txt\n",
      "OPENING /raid/DATASETS/.zuble/vigia/zu++/model/rslt/1676724661.2029078_leakyrelu_adam_0_1000_weights-2_500.txt\n",
      "OPENING /raid/DATASETS/.zuble/vigia/zu++/model/rslt/1676724661.2029078_leakyrelu_adam_0_1000_weights.txt\n",
      "OPENING /raid/DATASETS/.zuble/vigia/zu++/model/rslt/1677002476.5250552_relu_adam_0_2000_weights.txt\n",
      "OPENING /raid/DATASETS/.zuble/vigia/zu++/model/rslt/1677498953.2416248_relu_sgd_0_4000_weights-2_1000.txt\n",
      "OPENING /raid/DATASETS/.zuble/vigia/zu++/model/rslt/1677498953.2416248_relu_sgd_0_4000_weights-2_500.txt\n",
      "OPENING /raid/DATASETS/.zuble/vigia/zu++/model/rslt/1677498953.2416248_relu_sgd_0_4000_weights.txt\n",
      "\n",
      "results for 3gelu_sgd_0_4000_weights\n",
      "\tACCURACY   0.81875\n",
      "\tPRECISION (%% of True 1 out of all Positive predicted)  0.8867102\n",
      "\tRECALL (%% of True Positive out of all actual anomalies)  0.814\n",
      "\tAUPRC ( AreaUnderPrecisionRecallCurve ) 0.9295 \n",
      "\t AUC-ROC 0.8896 \n",
      "\tF1_SCORE (harmonic mean of precision and recall)  0.8488007709181216\n",
      "\n",
      "results for 3gelu_adam_0_4000_weights\n",
      "\tACCURACY   0.77125\n",
      "\tPRECISION (%% of True 1 out of all Positive predicted)  0.9116883\n",
      "\tRECALL (%% of True Positive out of all actual anomalies)  0.702\n",
      "\tAUPRC ( AreaUnderPrecisionRecallCurve ) 0.9290 \n",
      "\t AUC-ROC 0.8835 \n",
      "\tF1_SCORE (harmonic mean of precision and recall)  0.7932203158709636\n",
      "\n",
      "results for 3gelu_adamamsgrad_0_4000_weights\n",
      "\tACCURACY   0.7875\n",
      "\tPRECISION (%% of True 1 out of all Positive predicted)  0.9166667\n",
      "\tRECALL (%% of True Positive out of all actual anomalies)  0.726\n",
      "\tAUPRC ( AreaUnderPrecisionRecallCurve ) 0.9398 \n",
      "\t AUC-ROC 0.9044 \n",
      "\tF1_SCORE (harmonic mean of precision and recall)  0.8102678471795525\n",
      "\n",
      "results for leakyrelu_adam_0_2000_weights\n",
      "\tACCURACY   0.7975\n",
      "\tPRECISION (%% of True 1 out of all Positive predicted)  0.8565401\n",
      "\tRECALL (%% of True Positive out of all actual anomalies)  0.812\n",
      "\tAUPRC ( AreaUnderPrecisionRecallCurve ) 0.9283 \n",
      "\t AUC-ROC 0.8789 \n",
      "\tF1_SCORE (harmonic mean of precision and recall)  0.8336755062084723\n",
      "\n",
      "results for leakyrelu_adam_0_1000_weights-2_500\n",
      "\tACCURACY   0.685\n",
      "\tPRECISION (%% of True 1 out of all Positive predicted)  0.67867434\n",
      "\tRECALL (%% of True Positive out of all actual anomalies)  0.942\n",
      "\tAUPRC ( AreaUnderPrecisionRecallCurve ) 0.8844 \n",
      "\t AUC-ROC 0.8152 \n",
      "\tF1_SCORE (harmonic mean of precision and recall)  0.7889446098840821\n",
      "\n",
      "results for leakyrelu_adam_0_1000_weights\n",
      "\tACCURACY   0.75625\n",
      "\tPRECISION (%% of True 1 out of all Positive predicted)  0.76521736\n",
      "\tRECALL (%% of True Positive out of all actual anomalies)  0.88\n",
      "\tAUPRC ( AreaUnderPrecisionRecallCurve ) 0.8993 \n",
      "\t AUC-ROC 0.8361 \n",
      "\tF1_SCORE (harmonic mean of precision and recall)  0.818604561301469\n",
      "\n",
      "results for relu_adam_0_2000_weights\n",
      "\tACCURACY   0.77875\n",
      "\tPRECISION (%% of True 1 out of all Positive predicted)  0.7848325\n",
      "\tRECALL (%% of True Positive out of all actual anomalies)  0.89\n",
      "\tAUPRC ( AreaUnderPrecisionRecallCurve ) 0.9052 \n",
      "\t AUC-ROC 0.8583 \n",
      "\tF1_SCORE (harmonic mean of precision and recall)  0.8341142714551198\n",
      "\n",
      "results for relu_sgd_0_4000_weights-2_1000\n",
      "\tACCURACY   0.70625\n",
      "\tPRECISION (%% of True 1 out of all Positive predicted)  0.6868829\n",
      "\tRECALL (%% of True Positive out of all actual anomalies)  0.974\n",
      "\tAUPRC ( AreaUnderPrecisionRecallCurve ) 0.8993 \n",
      "\t AUC-ROC 0.8326 \n",
      "\tF1_SCORE (harmonic mean of precision and recall)  0.805624370837307\n",
      "\n",
      "results for relu_sgd_0_4000_weights-2_500\n",
      "\tACCURACY   0.64375\n",
      "\tPRECISION (%% of True 1 out of all Positive predicted)  0.63764405\n",
      "\tRECALL (%% of True Positive out of all actual anomalies)  0.996\n",
      "\tAUPRC ( AreaUnderPrecisionRecallCurve ) 0.8820 \n",
      "\t AUC-ROC 0.8059 \n",
      "\tF1_SCORE (harmonic mean of precision and recall)  0.7775174655407966\n",
      "\n",
      "results for relu_sgd_0_4000_weights\n",
      "\tACCURACY   0.845\n",
      "\tPRECISION (%% of True 1 out of all Positive predicted)  0.8852459\n",
      "\tRECALL (%% of True Positive out of all actual anomalies)  0.864\n",
      "\tAUPRC ( AreaUnderPrecisionRecallCurve ) 0.9373 \n",
      "\t AUC-ROC 0.9061 \n",
      "\tF1_SCORE (harmonic mean of precision and recall)  0.874493961008524\n",
      "+-------------------------------------+----------+-----------+--------+----------+--------+----------+\n",
      "|                MODEL                | Accuracy | Precision | Recall | AUPRC-AP | AUROC  | F1-score |\n",
      "+-------------------------------------+----------+-----------+--------+----------+--------+----------+\n",
      "|       3gelu_sgd_0_4000_weights      |  0.8188  |   0.8867  | 0.8140 |  0.9295  | 0.8896 |  0.8488  |\n",
      "|      3gelu_adam_0_4000_weights      |  0.7713  |   0.9117  | 0.7020 |  0.9290  | 0.8835 |  0.7932  |\n",
      "|   3gelu_adamamsgrad_0_4000_weights  |  0.7875  |   0.9167  | 0.7260 |  0.9398  | 0.9044 |  0.8103  |\n",
      "|    leakyrelu_adam_0_2000_weights    |  0.7975  |   0.8565  | 0.8120 |  0.9283  | 0.8789 |  0.8337  |\n",
      "| leakyrelu_adam_0_1000_weights-2_500 |  0.6850  |   0.6787  | 0.9420 |  0.8844  | 0.8152 |  0.7889  |\n",
      "|    leakyrelu_adam_0_1000_weights    |  0.7563  |   0.7652  | 0.8800 |  0.8993  | 0.8361 |  0.8186  |\n",
      "|       relu_adam_0_2000_weights      |  0.7788  |   0.7848  | 0.8900 |  0.9052  | 0.8583 |  0.8341  |\n",
      "|    relu_sgd_0_4000_weights-2_1000   |  0.7063  |   0.6869  | 0.9740 |  0.8993  | 0.8326 |  0.8056  |\n",
      "|    relu_sgd_0_4000_weights-2_500    |  0.6438  |   0.6376  | 0.9960 |  0.8820  | 0.8059 |  0.7775  |\n",
      "|       relu_sgd_0_4000_weights       |  0.8450  |   0.8852  | 0.8640 |  0.9373  | 0.9061 |  0.8745  |\n",
      "+-------------------------------------+----------+-----------+--------+----------+--------+----------+\n"
     ]
    }
   ],
   "source": [
    "'''get_results_from_txt'''\n",
    "res_list_full,res_list_max,res_list_fn,res_list_labels,res_path,res_model_fn,res_model_fn_strap = aux.get_results_from_txt(aux.RSLT_PATH)"
   ]
  },
  {
   "cell_type": "code",
   "execution_count": 11,
   "metadata": {},
   "outputs": [],
   "source": [
    "#watch_test(res_list_full,test_fn)"
   ]
  },
  {
   "cell_type": "code",
   "execution_count": 12,
   "metadata": {},
   "outputs": [],
   "source": [
    "#auxua.get_histplot_from_csv(aux.HIST_PATH,True)"
   ]
  },
  {
   "cell_type": "code",
   "execution_count": 13,
   "metadata": {},
   "outputs": [],
   "source": [
    "#auxua.get_histplot_wo_val_from_csv(aux.HIST_PATH)"
   ]
  }
 ],
 "metadata": {
  "kernelspec": {
   "display_name": "zugpu",
   "language": "python",
   "name": "python3"
  },
  "language_info": {
   "codemirror_mode": {
    "name": "ipython",
    "version": 3
   },
   "file_extension": ".py",
   "mimetype": "text/x-python",
   "name": "python",
   "nbconvert_exporter": "python",
   "pygments_lexer": "ipython3",
   "version": "3.8.15"
  },
  "orig_nbformat": 4
 },
 "nbformat": 4,
 "nbformat_minor": 2
}
