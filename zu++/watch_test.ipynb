{
 "cells": [
  {
   "cell_type": "code",
   "execution_count": 1,
   "metadata": {},
   "outputs": [
    {
     "name": "stdout",
     "output_type": "stream",
     "text": [
      "Num GPUs Available:  4\n",
      "PhysicalDevice(name='/physical_device:GPU:0', device_type='GPU')\n",
      "PhysicalDevice(name='/physical_device:GPU:1', device_type='GPU')\n",
      "PhysicalDevice(name='/physical_device:GPU:2', device_type='GPU')\n",
      "PhysicalDevice(name='/physical_device:GPU:3', device_type='GPU')\n"
     ]
    },
    {
     "name": "stderr",
     "output_type": "stream",
     "text": [
      "/home/jtstudents/anaconda3/envs/zugpu/lib/python3.8/site-packages/neptune/internal/backends/hosted_client.py:48: NeptuneDeprecationWarning: The 'neptune-client' package has been deprecated and will be removed in the future. Install the 'neptune' package instead. For more, see https://docs.neptune.ai/setup/upgrading/\n",
      "  from neptune.version import version as neptune_client_version\n"
     ]
    }
   ],
   "source": [
    "import os, random, logging\n",
    "import utils.auxua as aux\n",
    "import utils.watch as watch\n",
    "import numpy as np\n",
    "\n",
    "''' tf log level & neptune'''\n",
    "aux.set_tf_loglevel(logging.ERROR)"
   ]
  },
  {
   "cell_type": "code",
   "execution_count": 2,
   "metadata": {},
   "outputs": [
    {
     "name": "stdout",
     "output_type": "stream",
     "text": [
      "FOLDER\n",
      "\n",
      "results for 3gelu_sgd_0_4000_weights\n",
      "\tACCURACY   0.81875\n",
      "\tPRECISION (%% of True 1 out of all Positive predicted)  0.8867102\n",
      "\tRECALL (%% of True Positive out of all actual anomalies)  0.814\n",
      "\tAUPRC ( AreaUnderPrecisionRecallCurve ) 0.9295 \n",
      "\t AUC-ROC 0.8896 \n",
      "\tF1_SCORE (harmonic mean of precision and recall)  0.8488007709181216\n",
      "\n",
      "results for 3gelu_adam_0_4000_weights\n",
      "\tACCURACY   0.77125\n",
      "\tPRECISION (%% of True 1 out of all Positive predicted)  0.9116883\n",
      "\tRECALL (%% of True Positive out of all actual anomalies)  0.702\n",
      "\tAUPRC ( AreaUnderPrecisionRecallCurve ) 0.9290 \n",
      "\t AUC-ROC 0.8835 \n",
      "\tF1_SCORE (harmonic mean of precision and recall)  0.7932203158709636\n",
      "\n",
      "results for 3gelu_adamamsgrad_0_4000_weights\n",
      "\tACCURACY   0.7875\n",
      "\tPRECISION (%% of True 1 out of all Positive predicted)  0.9166667\n",
      "\tRECALL (%% of True Positive out of all actual anomalies)  0.726\n",
      "\tAUPRC ( AreaUnderPrecisionRecallCurve ) 0.9398 \n",
      "\t AUC-ROC 0.9044 \n",
      "\tF1_SCORE (harmonic mean of precision and recall)  0.8102678471795525\n",
      "\n",
      "results for leakyrelu_adam_0_2000_weights\n",
      "\tACCURACY   0.7975\n",
      "\tPRECISION (%% of True 1 out of all Positive predicted)  0.8565401\n",
      "\tRECALL (%% of True Positive out of all actual anomalies)  0.812\n",
      "\tAUPRC ( AreaUnderPrecisionRecallCurve ) 0.9283 \n",
      "\t AUC-ROC 0.8789 \n",
      "\tF1_SCORE (harmonic mean of precision and recall)  0.8336755062084723\n",
      "\n",
      "results for leakyrelu_adam_0_1000_weights-2_500\n",
      "\tACCURACY   0.685\n",
      "\tPRECISION (%% of True 1 out of all Positive predicted)  0.67867434\n",
      "\tRECALL (%% of True Positive out of all actual anomalies)  0.942\n",
      "\tAUPRC ( AreaUnderPrecisionRecallCurve ) 0.8844 \n",
      "\t AUC-ROC 0.8152 \n",
      "\tF1_SCORE (harmonic mean of precision and recall)  0.7889446098840821\n",
      "\n",
      "results for leakyrelu_adam_0_1000_weights\n",
      "\tACCURACY   0.75625\n",
      "\tPRECISION (%% of True 1 out of all Positive predicted)  0.76521736\n",
      "\tRECALL (%% of True Positive out of all actual anomalies)  0.88\n",
      "\tAUPRC ( AreaUnderPrecisionRecallCurve ) 0.8993 \n",
      "\t AUC-ROC 0.8361 \n",
      "\tF1_SCORE (harmonic mean of precision and recall)  0.818604561301469\n",
      "\n",
      "results for relu_adam_0_2000_weights\n",
      "\tACCURACY   0.77875\n",
      "\tPRECISION (%% of True 1 out of all Positive predicted)  0.7848325\n",
      "\tRECALL (%% of True Positive out of all actual anomalies)  0.89\n",
      "\tAUPRC ( AreaUnderPrecisionRecallCurve ) 0.9052 \n",
      "\t AUC-ROC 0.8583 \n",
      "\tF1_SCORE (harmonic mean of precision and recall)  0.8341142714551198\n",
      "\n",
      "results for relu_sgd_0_4000_weights-2_1000\n",
      "\tACCURACY   0.70625\n",
      "\tPRECISION (%% of True 1 out of all Positive predicted)  0.6868829\n",
      "\tRECALL (%% of True Positive out of all actual anomalies)  0.974\n",
      "\tAUPRC ( AreaUnderPrecisionRecallCurve ) 0.8993 \n",
      "\t AUC-ROC 0.8326 \n",
      "\tF1_SCORE (harmonic mean of precision and recall)  0.805624370837307\n",
      "\n",
      "results for relu_sgd_0_4000_weights-2_500\n",
      "\tACCURACY   0.64375\n",
      "\tPRECISION (%% of True 1 out of all Positive predicted)  0.63764405\n",
      "\tRECALL (%% of True Positive out of all actual anomalies)  0.996\n",
      "\tAUPRC ( AreaUnderPrecisionRecallCurve ) 0.8820 \n",
      "\t AUC-ROC 0.8059 \n",
      "\tF1_SCORE (harmonic mean of precision and recall)  0.7775174655407966\n",
      "\n",
      "results for relu_sgd_0_4000_weights\n",
      "\tACCURACY   0.845\n",
      "\tPRECISION (%% of True 1 out of all Positive predicted)  0.8852459\n",
      "\tRECALL (%% of True Positive out of all actual anomalies)  0.864\n",
      "\tAUPRC ( AreaUnderPrecisionRecallCurve ) 0.9373 \n",
      "\t AUC-ROC 0.9061 \n",
      "\tF1_SCORE (harmonic mean of precision and recall)  0.874493961008524\n",
      "+-------------------------------------+----------+-----------+--------+----------+--------+----------+\n",
      "|                MODEL                | Accuracy | Precision | Recall | AUPRC-AP | AUROC  | F1-score |\n",
      "+-------------------------------------+----------+-----------+--------+----------+--------+----------+\n",
      "|       3gelu_sgd_0_4000_weights      |  0.8188  |   0.8867  | 0.8140 |  0.9295  | 0.8896 |  0.8488  |\n",
      "|      3gelu_adam_0_4000_weights      |  0.7713  |   0.9117  | 0.7020 |  0.9290  | 0.8835 |  0.7932  |\n",
      "|   3gelu_adamamsgrad_0_4000_weights  |  0.7875  |   0.9167  | 0.7260 |  0.9398  | 0.9044 |  0.8103  |\n",
      "|    leakyrelu_adam_0_2000_weights    |  0.7975  |   0.8565  | 0.8120 |  0.9283  | 0.8789 |  0.8337  |\n",
      "| leakyrelu_adam_0_1000_weights-2_500 |  0.6850  |   0.6787  | 0.9420 |  0.8844  | 0.8152 |  0.7889  |\n",
      "|    leakyrelu_adam_0_1000_weights    |  0.7563  |   0.7652  | 0.8800 |  0.8993  | 0.8361 |  0.8186  |\n",
      "|       relu_adam_0_2000_weights      |  0.7788  |   0.7848  | 0.8900 |  0.9052  | 0.8583 |  0.8341  |\n",
      "|    relu_sgd_0_4000_weights-2_1000   |  0.7063  |   0.6869  | 0.9740 |  0.8993  | 0.8326 |  0.8056  |\n",
      "|    relu_sgd_0_4000_weights-2_500    |  0.6438  |   0.6376  | 0.9960 |  0.8820  | 0.8059 |  0.7775  |\n",
      "|       relu_sgd_0_4000_weights       |  0.8450  |   0.8852  | 0.8640 |  0.9373  | 0.9061 |  0.8745  |\n",
      "+-------------------------------------+----------+-----------+--------+----------+--------+----------+\n",
      "0 1670428387.3704295_3gelu_sgd_0_4000_weights\n",
      "1 1671124357.725051_3gelu_adam_0_4000_weights\n",
      "2 1671124367.446378_3gelu_adamamsgrad_0_4000_weights\n",
      "3 1676724247.3618405_leakyrelu_adam_0_2000_weights\n",
      "4 1676724661.2029078_leakyrelu_adam_0_1000_weights-2_500\n",
      "5 1676724661.2029078_leakyrelu_adam_0_1000_weights\n",
      "6 1677002476.5250552_relu_adam_0_2000_weights\n",
      "7 1677498953.2416248_relu_sgd_0_4000_weights-2_1000\n",
      "8 1677498953.2416248_relu_sgd_0_4000_weights-2_500\n",
      "9 1677498953.2416248_relu_sgd_0_4000_weights\n"
     ]
    }
   ],
   "source": [
    "'''get_results_from_txt'''\n",
    "\n",
    "res_list_full,res_list_max,res_list_fn,res_list_path,res_list_labels,res_path,res_model_fn,res_model_fn_strap =\\\n",
    "aux.get_results_from_txt(aux.RSLT_PATH,printt=True)\n",
    "\n",
    "res_list={\n",
    "    'full':res_list_full,\n",
    "    'max':res_list_max,\n",
    "    'videoname':res_list_fn,\n",
    "    'videopath':res_list_path,\n",
    "    'labels':res_list_labels,\n",
    "    'txt_path':res_path,\n",
    "    'txt_modelname':res_model_fn,\n",
    "    'txt_modelname_strap':res_model_fn_strap        \n",
    "}\n",
    "\n",
    "for i in range(len(res_list['txt_modelname'])):print(i,res_list['txt_modelname'][i])\n",
    "\n",
    "#res_list_1 = aux.get_results_from_txt(\"/raid/DATASETS/.zuble/vigia/zu++/model/rslt/1671124367.446378_3gelu_adamamsgrad_0_4000_weights.txt\")"
   ]
  },
  {
   "cell_type": "code",
   "execution_count": 3,
   "metadata": {},
   "outputs": [],
   "source": [
    "def init_watch(res_list, txt_i,watch_this=''):\n",
    "    \n",
    "    def get_fn_index_from_list(txt_i):\n",
    "        '''retrives all video indexs from a txt that are false negatives'''\n",
    "        \n",
    "        print(\"\\nget_fn_index_from_list\\n\\tfn indexs from\",res_list['txt_path'][txt_i])\n",
    "        indexs = []\n",
    "        labels_count={'B1fitgh':0,'B2shoot':0,'B4riot':0,'B5abuse':0,'B6caracc':0,'Gexplosao':0}\n",
    "        for video_j in range(len(res_list['videoname'])):\n",
    "            if 'label_A' not in res_list['videoname'][video_j][txt_i]:\n",
    "                if float(res_list['max'][video_j][txt_i])<=0.5: \n",
    "                    indexs.append(video_j)\n",
    "                    if 'label_B1' in res_list['videoname'][video_j][txt_i]:labels_count['B1fitgh']+=1\n",
    "                    if 'label_B2' in res_list['videoname'][video_j][txt_i]:labels_count['B2shoot']+=1\n",
    "                    if 'label_B4' in res_list['videoname'][video_j][txt_i]:labels_count['B4riot']+=1\n",
    "                    if 'label_B5' in res_list['videoname'][video_j][txt_i]:labels_count['B5abuse']+=1\n",
    "                    if 'label_B6' in res_list['videoname'][video_j][txt_i]:labels_count['B6caracc']+=1\n",
    "                    if 'label_G' in res_list['videoname'][video_j][txt_i]:labels_count['Gexplosao']+=1    \n",
    "        \n",
    "        print(\"\\t\",len(indexs),\" false negatives indexs:\\n\\t\",indexs)\n",
    "        print(labels_count)\n",
    "        return indexs\n",
    "    \n",
    "    as_total = watch.get_as_total_from_res_list(res_list,txt_i)\n",
    "    \n",
    "    if watch_this == 'fn':\n",
    "        watch_this_videos = get_fn_index_from_list(txt_i)\n",
    "        for video_j in watch_this_videos:\n",
    "            watch.cv2_test_from_aslist(res_list,as_total[video_j],video_j,txt_i)\n",
    "    else:\n",
    "        for video_j in range(len(res_list['videopath'])):\n",
    "            watch.cv2_test_from_aslist(res_list,as_total[video_j],video_j,txt_i)"
   ]
  },
  {
   "cell_type": "code",
   "execution_count": 4,
   "metadata": {},
   "outputs": [
    {
     "name": "stdout",
     "output_type": "stream",
     "text": [
      "as_total from /raid/DATASETS/.zuble/vigia/zu++/model/rslt/1677498953.2416248_relu_sgd_0_4000_weights-2_500.txt\n",
      "\n",
      "get_fn_index_from_list\n",
      "\tfn indexs from /raid/DATASETS/.zuble/vigia/zu++/model/rslt/1677498953.2416248_relu_sgd_0_4000_weights-2_500.txt\n",
      "\t 2  false negatives indexs:\n",
      "\t [631, 780]\n",
      "{'B1fitgh': 0, 'B2shoot': 1, 'B4riot': 0, 'B5abuse': 0, 'B6caracc': 0, 'Gexplosao': 1}\n",
      "\n",
      "res_list['full'] for video  631 | txt 8 ['2', '501', '0.4965662', '500', '624', '0.46423677']\n",
      "\n",
      "res_list['full'] for video  780 | txt 8 ['3', '501', '0.18835111', '500', '1001', '0.19460565', '1000', '1081', '0.1977591']\n"
     ]
    }
   ],
   "source": [
    "init_watch(res_list,8,'fn')"
   ]
  }
 ],
 "metadata": {
  "kernelspec": {
   "display_name": "zhen_gpu",
   "language": "python",
   "name": "python3"
  },
  "language_info": {
   "codemirror_mode": {
    "name": "ipython",
    "version": 3
   },
   "file_extension": ".py",
   "mimetype": "text/x-python",
   "name": "python",
   "nbconvert_exporter": "python",
   "pygments_lexer": "ipython3",
   "version": "3.8.15"
  },
  "orig_nbformat": 4,
  "vscode": {
   "interpreter": {
    "hash": "6eb85c0477d574fd6bdabb52dbe9212bb7f487155853edb797b76ac4297f2c9e"
   }
  }
 },
 "nbformat": 4,
 "nbformat_minor": 2
}
