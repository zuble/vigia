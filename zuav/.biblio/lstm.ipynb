{
 "cells": [
  {
   "cell_type": "code",
   "execution_count": 3,
   "metadata": {},
   "outputs": [
    {
     "ename": "ModuleNotFoundError",
     "evalue": "No module named 'zuav'",
     "output_type": "error",
     "traceback": [
      "\u001b[0;31m---------------------------------------------------------------------------\u001b[0m",
      "\u001b[0;31mModuleNotFoundError\u001b[0m                       Traceback (most recent call last)",
      "Cell \u001b[0;32mIn[3], line 7\u001b[0m\n\u001b[1;32m      2\u001b[0m \u001b[39mimport\u001b[39;00m \u001b[39mtensorflow\u001b[39;00m \u001b[39mas\u001b[39;00m \u001b[39mtf\u001b[39;00m\n\u001b[1;32m      3\u001b[0m \u001b[39mfrom\u001b[39;00m \u001b[39mtensorflow\u001b[39;00m \u001b[39mimport\u001b[39;00m keras\n\u001b[0;32m----> 7\u001b[0m \u001b[39mimport\u001b[39;00m \u001b[39mzuav\u001b[39;00m\u001b[39m.\u001b[39;00m\u001b[39mutils\u001b[39;00m\u001b[39m.\u001b[39;00m\u001b[39mtf_formh5\u001b[39;00m \u001b[39mas\u001b[39;00m \u001b[39mtf_formh5\u001b[39;00m\n\u001b[1;32m     10\u001b[0m \u001b[39m''' GPU CONFIGURATION '''\u001b[39;00m\n\u001b[1;32m     11\u001b[0m tf_formh5\u001b[39m.\u001b[39mset_tf_loglevel(logging\u001b[39m.\u001b[39mERROR)\n",
      "\u001b[0;31mModuleNotFoundError\u001b[0m: No module named 'zuav'"
     ]
    }
   ],
   "source": [
    "import numpy as np , logging , os\n",
    "import tensorflow as tf\n",
    "from tensorflow import keras\n",
    "\n",
    "\n",
    "\n",
    "import zuav.utils.tf_formh5 as tf_formh5\n",
    "\n",
    "\n",
    "''' GPU CONFIGURATION '''\n",
    "tf_formh5.set_tf_loglevel(logging.ERROR)\n",
    "tf_formh5.tf.debugging.set_log_device_placement(False) #Enabling device placement logging causes any Tensor allocations or operations to be printed.\n",
    "tf_formh5.set_memory_growth()\n",
    "os.environ['TF_FORCE_GPU_ALLOW_GROWTH'] = 'true'\n",
    "os.environ[\"CUDA_VISIBLE_DEVICES\"]=\"0,1,2,3\""
   ]
  },
  {
   "cell_type": "code",
   "execution_count": 3,
   "metadata": {},
   "outputs": [],
   "source": [
    "time_steps = 122\n",
    "features = 10\n",
    "\n",
    "arr = np.ones((1, time_steps, features))"
   ]
  },
  {
   "cell_type": "code",
   "execution_count": 4,
   "metadata": {},
   "outputs": [],
   "source": [
    "in_lstm = keras.Input(shape=(time_steps, features))"
   ]
  },
  {
   "cell_type": "code",
   "execution_count": 5,
   "metadata": {},
   "outputs": [
    {
     "name": "stdout",
     "output_type": "stream",
     "text": [
      "INPUT\n",
      " (1, 122, 10) \n",
      "\n",
      "Model: \"model\"\n",
      "_________________________________________________________________\n",
      "Layer (type)                 Output Shape              Param #   \n",
      "=================================================================\n",
      "input_1 (InputLayer)         [(None, 122, 10)]         0         \n",
      "_________________________________________________________________\n",
      "lstm (LSTM)                  (None, 122, 12)           1104      \n",
      "=================================================================\n",
      "Total params: 1,104\n",
      "Trainable params: 1,104\n",
      "Non-trainable params: 0\n",
      "_________________________________________________________________\n",
      "\n",
      "OUTPUT\n",
      " (1, 122, 12)\n"
     ]
    }
   ],
   "source": [
    "''' LSTM w/ 12 units '''\n",
    "\n",
    "print('INPUT\\n',np.shape(arr),'\\n')\n",
    "\n",
    "lstm0 = keras.layers.LSTM(12, return_sequences=True)(in_lstm)\n",
    "model0 = keras.Model(inputs=[in_lstm], outputs=[lstm0])\n",
    "model0.summary()\n",
    "\n",
    "\n",
    "output0 = model0.predict(arr)\n",
    "print('\\nOUTPUT\\n',np.shape(output0))"
   ]
  },
  {
   "cell_type": "code",
   "execution_count": 6,
   "metadata": {},
   "outputs": [
    {
     "name": "stdout",
     "output_type": "stream",
     "text": [
      "INPUT\n",
      " (1, 122, 10) \n",
      "\n",
      "Model: \"model_1\"\n",
      "_________________________________________________________________\n",
      "Layer (type)                 Output Shape              Param #   \n",
      "=================================================================\n",
      "input_1 (InputLayer)         [(None, 122, 10)]         0         \n",
      "_________________________________________________________________\n",
      "lstm_1 (LSTM)                (None, 122, 6)            408       \n",
      "=================================================================\n",
      "Total params: 408\n",
      "Trainable params: 408\n",
      "Non-trainable params: 0\n",
      "_________________________________________________________________\n",
      "\n",
      "OUTPUT\n",
      " (1, 122, 6)\n"
     ]
    }
   ],
   "source": [
    "'''LSTM  w/ 6 units '''\n",
    "\n",
    "print('INPUT\\n',np.shape(arr),'\\n')\n",
    "\n",
    "lstm1 = keras.layers.LSTM(6, return_sequences=True)(in_lstm)\n",
    "model1 = keras.Model(inputs=[in_lstm], outputs=[lstm1])\n",
    "model1.summary()\n",
    "\n",
    "output1 = model1.predict(arr)\n",
    "print('\\nOUTPUT\\n',np.shape(output1))"
   ]
  },
  {
   "cell_type": "code",
   "execution_count": 7,
   "metadata": {},
   "outputs": [
    {
     "name": "stdout",
     "output_type": "stream",
     "text": [
      "INPUT\n",
      " (1, 122, 10) \n",
      "\n",
      "Model: \"model_2\"\n",
      "_________________________________________________________________\n",
      "Layer (type)                 Output Shape              Param #   \n",
      "=================================================================\n",
      "input_1 (InputLayer)         [(None, 122, 10)]         0         \n",
      "_________________________________________________________________\n",
      "lstm_2 (LSTM)                (None, 122, 3)            168       \n",
      "=================================================================\n",
      "Total params: 168\n",
      "Trainable params: 168\n",
      "Non-trainable params: 0\n",
      "_________________________________________________________________\n",
      "\n",
      "OUTPUT\n",
      " (1, 122, 3)\n"
     ]
    }
   ],
   "source": [
    "''' LSTM w/ 3 units '''\n",
    "\n",
    "print('INPUT\\n',np.shape(arr),'\\n')\n",
    "\n",
    "lstm2 = keras.layers.LSTM(3, return_sequences=True)(in_lstm)\n",
    "model2 = keras.Model(inputs=[in_lstm], outputs=[lstm2])\n",
    "model2.summary()\n",
    "\n",
    "output2 = model2.predict(arr)\n",
    "print('\\nOUTPUT\\n',np.shape(output2))"
   ]
  }
 ],
 "metadata": {
  "kernelspec": {
   "display_name": "zugpu",
   "language": "python",
   "name": "python3"
  },
  "language_info": {
   "codemirror_mode": {
    "name": "ipython",
    "version": 3
   },
   "file_extension": ".py",
   "mimetype": "text/x-python",
   "name": "python",
   "nbconvert_exporter": "python",
   "pygments_lexer": "ipython3",
   "version": "3.8.15"
  },
  "orig_nbformat": 4
 },
 "nbformat": 4,
 "nbformat_minor": 2
}
