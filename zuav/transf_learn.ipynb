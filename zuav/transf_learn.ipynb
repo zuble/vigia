{
 "cells": [
  {
   "cell_type": "code",
   "execution_count": 1,
   "metadata": {},
   "outputs": [
    {
     "name": "stdout",
     "output_type": "stream",
     "text": [
      "cudatoolkit               10.1.243            h8cb64d8_11    conda-forge\n",
      "cudnn                     7.6.5.32             hc0a50b0_1    conda-forge\n",
      "neptune-tensorflow-keras  2.1.0              pyhd8ed1ab_0    conda-forge\n",
      "numpy                     1.19.5           py38hc896f84_4  \n",
      "numpy-base                1.19.5           py38h21a3de8_4  \n",
      "tensorflow                2.2.0           gpu_py38hb782248_0    anaconda\n",
      "tensorflow-base           2.2.0           gpu_py38h83e3d50_0    anaconda\n",
      "tensorflow-estimator      2.6.0            py38h709712a_0    conda-forge\n",
      "tensorflow-gpu            2.2.0                h0d30ee6_0    anaconda\n",
      "\n",
      "Num GPUs Available:  4\n",
      "4 Physical GPUs, 4 Logical GPUs\n"
     ]
    }
   ],
   "source": [
    "import numpy as np , logging , os\n",
    "import tensorflow as tf\n",
    "from tensorflow import keras\n",
    "\n",
    "from utils import tf_formh5 , auxua as aux , globo , xdv\n",
    "\n",
    "\n",
    "''' GPU CONFIGURATION '''\n",
    "tf_formh5.set_tf_loglevel(logging.ERROR)\n",
    "tf_formh5.tf.debugging.set_log_device_placement(False) #Enabling device placement logging causes any Tensor allocations or operations to be printed.\n",
    "tf_formh5.set_memory_growth()\n",
    "os.environ['TF_FORCE_GPU_ALLOW_GROWTH'] = 'true'\n",
    "os.environ[\"CUDA_VISIBLE_DEVICES\"]=\"0,1,2,3\""
   ]
  },
  {
   "cell_type": "code",
   "execution_count": 2,
   "metadata": {},
   "outputs": [
    {
     "name": "stdout",
     "output_type": "stream",
     "text": [
      "weights: 2\n",
      "trainable_weights: 0\n",
      "non_trainable_weights: 2\n"
     ]
    }
   ],
   "source": [
    "''' get layer's weights'''\n",
    "\n",
    "layer = keras.layers.Dense(3)\n",
    "layer.build((None, 4))  # Create the weights\n",
    "layer.trainable = False  # Freeze the layer\n",
    "\n",
    "print(\"weights:\", len(layer.weights))\n",
    "print(\"trainable_weights:\", len(layer.trainable_weights))\n",
    "print(\"non_trainable_weights:\", len(layer.non_trainable_weights))"
   ]
  },
  {
   "cell_type": "code",
   "execution_count": 3,
   "metadata": {},
   "outputs": [
    {
     "name": "stdout",
     "output_type": "stream",
     "text": [
      "\n",
      "FORM_MODEL\n",
      "\n",
      "\n",
      "\t {'ativa': 'relu', 'optima': 'sgd', 'batch_type': 0, 'frame_max': '4000', 'ckpt_start': '00000000', 'epochs': 30} \n",
      "\n",
      "\tOPTIMA <tensorflow.python.keras.optimizer_v2.gradient_descent.SGD object at 0x7f40c8570d00> \n",
      "\tATIVA relu\n",
      "\n",
      "\tWEIGHTS from  /.rgb/1677498953.2416248_relu_sgd_0_4000_xdviolence.h5\n"
     ]
    }
   ],
   "source": [
    "train_rgb_config = {\n",
    "    \"ativa\" : 'relu',\n",
    "    \"optima\" : 'sgd',\n",
    "    \"batch_type\" : 0,   # =0 all batch have frame_max or video length // =1 last batch has frame_max frames // =2 last batch has no repetead frames\n",
    "    \"frame_max\" : '4000',\n",
    "    \"ckpt_start\" : f\"{0:0>8}\",  #used in train_model: if 00000000 start from scratch, else start from ckpt with config stated\n",
    "    \"epochs\" : 30\n",
    "}\n",
    "\n",
    "model , model_name = tf_formh5.init_modelrgb(train_rgb_config,globo.RGB_PATH)"
   ]
  },
  {
   "cell_type": "code",
   "execution_count": 4,
   "metadata": {},
   "outputs": [
    {
     "name": "stdout",
     "output_type": "stream",
     "text": [
      "Model: \"model\"\n",
      "_________________________________________________________________\n",
      "Layer (type)                 Output Shape              Param #   \n",
      "=================================================================\n",
      "input_1 (InputLayer)         [(None, None, 120, 160, 3 0         \n",
      "_________________________________________________________________\n",
      "conv3d (Conv3D)              (None, None, 118, 158, 4) 220       \n",
      "_________________________________________________________________\n",
      "max_pooling3d (MaxPooling3D) (None, None, 59, 79, 4)   0         \n",
      "_________________________________________________________________\n",
      "conv3d_1 (Conv3D)            (None, None, 57, 77, 8)   1160      \n",
      "_________________________________________________________________\n",
      "max_pooling3d_1 (MaxPooling3 (None, None, 28, 38, 8)   0         \n",
      "_________________________________________________________________\n",
      "conv3d_2 (Conv3D)            (None, None, 26, 36, 16)  9232      \n",
      "_________________________________________________________________\n",
      "max_pooling3d_2 (MaxPooling3 (None, None, 13, 18, 16)  0         \n",
      "_________________________________________________________________\n",
      "lambda (Lambda)              (1, None, 3744)           0         \n",
      "_________________________________________________________________\n",
      "lstm (LSTM)                  (1, None, 1024)           19533824  \n",
      "_________________________________________________________________\n",
      "global_max_pooling1d (Global (1, 1024)                 0         \n",
      "_________________________________________________________________\n",
      "dense_1 (Dense)              (1, 128)                  131200    \n",
      "_________________________________________________________________\n",
      "dense_2 (Dense)              (1, 1)                    129       \n",
      "=================================================================\n",
      "Total params: 19,675,765\n",
      "Trainable params: 19,675,765\n",
      "Non-trainable params: 0\n",
      "_________________________________________________________________\n"
     ]
    }
   ],
   "source": [
    "model.summary()"
   ]
  },
  {
   "cell_type": "code",
   "execution_count": 9,
   "metadata": {},
   "outputs": [
    {
     "name": "stdout",
     "output_type": "stream",
     "text": [
      "input_1 False\n",
      "conv3d False\n",
      "max_pooling3d False\n",
      "conv3d_1 False\n",
      "max_pooling3d_1 False\n",
      "conv3d_2 False\n",
      "max_pooling3d_2 False\n",
      "lambda False\n",
      "lstm False\n",
      "global_max_pooling1d False\n",
      "dense_1 True\n",
      "dense_2 True\n"
     ]
    }
   ],
   "source": [
    "# freeze model except the classifier head\n",
    "for layer in model.layers[:-2]:layer.trainable = False\n",
    "\n",
    "# check\n",
    "for layer in model.layers[:]:print(layer.name ,layer.trainable)"
   ]
  }
 ],
 "metadata": {
  "kernelspec": {
   "display_name": "zugpu",
   "language": "python",
   "name": "python3"
  },
  "language_info": {
   "codemirror_mode": {
    "name": "ipython",
    "version": 3
   },
   "file_extension": ".py",
   "mimetype": "text/x-python",
   "name": "python",
   "nbconvert_exporter": "python",
   "pygments_lexer": "ipython3",
   "version": "3.8.15"
  },
  "orig_nbformat": 4
 },
 "nbformat": 4,
 "nbformat_minor": 2
}
