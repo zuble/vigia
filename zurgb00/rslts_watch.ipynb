{
 "cells": [
  {
   "cell_type": "code",
   "execution_count": null,
   "metadata": {},
   "outputs": [],
   "source": [
    "import os, random, logging\n",
    "import utils.auxua as aux\n",
    "import utils.watch as watch\n",
    "import utils.tf_formh5 as tf_formh5\n",
    "import numpy as np\n",
    "\n",
    "''' tf log level & neptune'''\n",
    "tf_formh5.set_tf_loglevel(logging.ERROR)"
   ]
  },
  {
   "cell_type": "code",
   "execution_count": null,
   "metadata": {},
   "outputs": [],
   "source": [
    "'''get_results_from_txt'''\n",
    "\n",
    "res_list_full,res_list_max,res_list_fn,res_list_path,res_list_labels,res_path,res_model_fn,res_model_fn_strap =\\\n",
    "aux.get_results_from_txt(aux.RSLT_PATH,printt=True)\n",
    "\n",
    "res_list={\n",
    "    'full':res_list_full,\n",
    "    'max':res_list_max,\n",
    "    'videoname':res_list_fn,\n",
    "    'videopath':res_list_path,\n",
    "    'labels':res_list_labels,\n",
    "    'txt_path':res_path,\n",
    "    'txt_modelname':res_model_fn,\n",
    "    'txt_modelname_strap':res_model_fn_strap        \n",
    "}\n",
    "\n",
    "for i in range(len(res_list['txt_modelname'])):print(i,res_list['txt_modelname'][i])\n",
    "\n",
    "#res_list_1 = aux.get_results_from_txt(\"/raid/DATASETS/.zuble/vigia/zu++/model/rslt/1671124367.446378_3gelu_adamamsgrad_0_4000_weights.txt\")"
   ]
  },
  {
   "cell_type": "code",
   "execution_count": 3,
   "metadata": {},
   "outputs": [
    {
     "ename": "",
     "evalue": "",
     "output_type": "error",
     "traceback": [
      "\u001b[1;31mThe Kernel crashed while executing code in the the current cell or a previous cell. Please review the code in the cell(s) to identify a possible cause of the failure. Click <a href='https://aka.ms/vscodeJupyterKernelCrash'>here</a> for more info. View Jupyter <a href='command:jupyter.viewOutput'>log</a> for further details."
     ]
    }
   ],
   "source": [
    "'''\n",
    "TYPE OF EVENT                                 \n",
    "    B1 : FIGHT                                  _______\n",
    "    B2 : SHOOTING                              | LABEL |\n",
    "    B4 : RIOT                          ________|_0_|_1_|\n",
    "    B5 : ABUSE                        |Anom| O |TN | FN|              \n",
    "    B6 : CAR ACCIDENT                 |Scor|_1_|FP_|_TP|        \n",
    "    G  : EXPLOSION                       \n",
    "                                  \n",
    "watch_this : \n",
    "    \n",
    "    'N'        : All Normal       \n",
    "    'A'        : All Anomalies                \n",
    "    'A + type' : Filter  \n",
    "         \n",
    "    'FP'        : LABEL 0 | AS 1\n",
    "    'TN'        : LABEL 0 | AS 0\n",
    "    'FN + type' : LABEL 1 | AS 0\n",
    "    'TP + type' : LABEL 1 | AS 1\n",
    "        if type BG :groups all anomalies      \n",
    "'''\n",
    "\n",
    "watch.init_watch_reslist(res_list,7,watch_this=['FNBG'])"
   ]
  }
 ],
 "metadata": {
  "kernelspec": {
   "display_name": "zugpu",
   "language": "python",
   "name": "python3"
  },
  "language_info": {
   "codemirror_mode": {
    "name": "ipython",
    "version": 3
   },
   "file_extension": ".py",
   "mimetype": "text/x-python",
   "name": "python",
   "nbconvert_exporter": "python",
   "pygments_lexer": "ipython3",
   "version": "3.8.15"
  },
  "orig_nbformat": 4,
  "vscode": {
   "interpreter": {
    "hash": "8f7bf267530dde59ab6764f0eb5f1b22dea8a9c4ca62db1182ae079b8b4c02bd"
   }
  }
 },
 "nbformat": 4,
 "nbformat_minor": 2
}
