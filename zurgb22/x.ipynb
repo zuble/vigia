{
 "cells": [
  {
   "cell_type": "code",
   "execution_count": 1,
   "metadata": {},
   "outputs": [
    {
     "name": "stdout",
     "output_type": "stream",
     "text": [
      "/raid/DATASETS/.zuble/vigia /raid/DATASETS/anomaly\n",
      "\n",
      "LOADING valdt data (803,) (803,) (803,) \n",
      "\n",
      "\n",
      "\tnormal 427\n",
      "\tabnormal 376\n",
      "FILTERING VIDEO WITH LESS THAN 1000\n",
      "\n",
      "NEW valdt (719,) (719,) (719,) \n",
      "\n",
      "\n",
      "\tnormal 409\n",
      "\tabnormal 310\n"
     ]
    }
   ],
   "source": [
    "from utils import globo , xdv\n",
    "\n",
    "fn , labels , tframes = xdv.load_train_valdt_npy('valdt',1000)"
   ]
  }
 ],
 "metadata": {
  "kernelspec": {
   "display_name": "zugpu",
   "language": "python",
   "name": "python3"
  },
  "language_info": {
   "codemirror_mode": {
    "name": "ipython",
    "version": 3
   },
   "file_extension": ".py",
   "mimetype": "text/x-python",
   "name": "python",
   "nbconvert_exporter": "python",
   "pygments_lexer": "ipython3",
   "version": "3.8.15"
  },
  "orig_nbformat": 4
 },
 "nbformat": 4,
 "nbformat_minor": 2
}
