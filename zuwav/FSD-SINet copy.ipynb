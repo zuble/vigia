{
 "cells": [
  {
   "cell_type": "code",
   "execution_count": 1,
   "metadata": {},
   "outputs": [
    {
     "name": "stdout",
     "output_type": "stream",
     "text": [
      "2.1-beta6-dev\n",
      "/usr/local/lib/python3.8/site-packages/essentia/__init__.py\n"
     ]
    },
    {
     "name": "stderr",
     "output_type": "stream",
     "text": [
      "2023-04-04 01:04:54.715006: I tensorflow/core/platform/cpu_feature_guard.cc:142] This TensorFlow binary is optimized with oneAPI Deep Neural Network Library (oneDNN) to use the following CPU instructions in performance-critical operations:  AVX2 FMA\n",
      "To enable them in other operations, rebuild TensorFlow with the appropriate compiler flags.\n"
     ]
    }
   ],
   "source": [
    "import essentia\n",
    "print(essentia.__version__)\n",
    "print(essentia.__file__)\n",
    "import essentia.standard as es\n",
    "\n",
    "# let's have a look at what is in there\n",
    "#print(dir(essentia.standard))\n",
    "\n",
    "import json\n",
    "import matplotlib.pyplot as plt\n",
    "import numpy as np\n",
    "import cv2\n",
    "\n",
    "import utils.util as util\n",
    "import moviepy.editor as mp"
   ]
  },
  {
   "cell_type": "code",
   "execution_count": null,
   "metadata": {},
   "outputs": [],
   "source": [
    "''' HELPERS '''\n",
    "#print(dir(essentia.standard))\n",
    "#print(help(es.MonoLoader))"
   ]
  },
  {
   "cell_type": "code",
   "execution_count": 2,
   "metadata": {},
   "outputs": [],
   "source": [
    "def predicition_complete(audio,nlabels2predict,printt=False,plott=False,save_plot=False):\n",
    "    \n",
    "    # Loading the model\n",
    "    graph_filename = \"/raid/DATASETS/.zuble/vigia/zuwav/fsd-sinet-essentia/models/fsd-sinet-vgg41-tlpf-1.pb\"\n",
    "    model = es.TensorflowPredictFSDSINet(graphFilename=graph_filename)\n",
    "\n",
    "    # Read the metadata\n",
    "    metadata_file = \"/raid/DATASETS/.zuble/vigia/zuwav/fsd-sinet-essentia/models/fsd-sinet-vgg41-tlpf-1.json\"\n",
    "    metadata = json.load(open(metadata_file, \"r\"))\n",
    "    labels = metadata[\"classes\"]\n",
    "    \n",
    "    \n",
    "    def top_from_average(data, top_n):\n",
    "        av = np.mean(data, axis=1)\n",
    "        sorting = np.argsort(av)[::-1]\n",
    "        return sorting[:top_n], [av[i] for i in sorting]\n",
    "\n",
    "    \n",
    "    def plot_predictions(top_preds, top_labels_w_av):\n",
    "    \n",
    "        # Generate plots and improve formatting\n",
    "        matfig = plt.figure(figsize=(8, 3))\n",
    "        plt.matshow(top_preds, fignum=matfig.number, aspect=\"auto\")\n",
    "\n",
    "        plt.yticks(np.arange(len(top_labels_w_av)), top_labels_with_av)\n",
    "        locs, _ = plt.xticks()\n",
    "        ticks = np.array(locs // 2).astype(\"int\")\n",
    "        plt.xticks(locs[1: -1], ticks[1: -1])\n",
    "        plt.tick_params(\n",
    "            bottom=True, top=False, labelbottom=True, labeltop=False\n",
    "        )\n",
    "        plt.xlabel(\"(s)\")\n",
    "\n",
    "        if save_plot : plt.savefig(\"activations.png\", bbox_inches='tight')\n",
    "    \n",
    "    \n",
    "    predictions = model(audio)\n",
    "    return predictions\n",
    "    if printt:\n",
    "        for label, probability in zip(metadata['classes'], predictions.mean(axis=0)):\n",
    "            print(f'{label}: {100 * probability:.1f}%') \n",
    "\n",
    "    # Compute the top-n labels and predictions\n",
    "    top_n, averages = top_from_average(predictions,nlabels2predict)\n",
    "    \n",
    "    top_labels = [labels[i] for i in top_n]\n",
    "    if printt : print(top_labels)\n",
    "    \n",
    "    top_labels_with_av = [\n",
    "        f\"{label} ({av:.3f})\" for label, av in zip(top_labels, averages)\n",
    "    ]\n",
    "    if printt: print(top_labels_with_av)\n",
    "    \n",
    "    top_predictions = np.array([predictions[i, :] for i in top_n])\n",
    "    if plott: plot_predictions(top_predictions, top_labels_with_av)\n",
    "    \n",
    "    return top_labels_with_av\n",
    "\n",
    "\n"
   ]
  },
  {
   "cell_type": "code",
   "execution_count": 3,
   "metadata": {},
   "outputs": [
    {
     "name": "stdout",
     "output_type": "stream",
     "text": [
      "acc_path /raid/DATASETS/anomaly/XD_Violence/aud/testing/original\n"
     ]
    },
    {
     "name": "stderr",
     "output_type": "stream",
     "text": [
      "[   INFO   ] TensorflowPredict: Successfully loaded graph file: `/raid/DATASETS/.zuble/vigia/zuwav/fsd-sinet-essentia/models/fsd-sinet-vgg41-tlpf-1.pb`\n",
      "2023-04-04 01:05:03.203500: I tensorflow/core/platform/profile_utils/cpu_utils.cc:114] CPU Frequency: 2198820000 Hz\n"
     ]
    }
   ],
   "source": [
    "test_mp4_paths,test_mp4_labels,test_aac_paths,test_aac_labels = util.load_xdv_test(util.SERVER_TEST_AUD_ORIG_PATH)\n",
    "\n",
    "# Extract the audio from the video\n",
    "audio = mp.AudioFileClip(filename=test_mp4_paths[10])#.fx(mp.afx.audio_normalize)\n",
    "audio_total_array = audio.to_soundarray()\n",
    "audio_total_array_mono = np.mean(audio_total_array, axis=1)\n",
    "audio_total_array_mono_single = audio_total_array_mono.astype(np.float32)\n",
    "\n",
    "predictions = predicition_complete(audio_total_array_mono_single,2)\n"
   ]
  },
  {
   "cell_type": "code",
   "execution_count": null,
   "metadata": {},
   "outputs": [],
   "source": [
    "tt = ['/raid/DATASETS/anomaly/XD_Violence/testing_copy/A.Beautiful.Mind.2001__#00-25-20_00-29-20_label_A_1.mp4']\n",
    "util.print_acodec_from_mp4(tt,printt=True)"
   ]
  }
 ],
 "metadata": {
  "kernelspec": {
   "display_name": "zugpu",
   "language": "python",
   "name": "python3"
  },
  "language_info": {
   "codemirror_mode": {
    "name": "ipython",
    "version": 3
   },
   "file_extension": ".py",
   "mimetype": "text/x-python",
   "name": "python",
   "nbconvert_exporter": "python",
   "pygments_lexer": "ipython3",
   "version": "3.8.15"
  },
  "orig_nbformat": 4,
  "vscode": {
   "interpreter": {
    "hash": "8f7bf267530dde59ab6764f0eb5f1b22dea8a9c4ca62db1182ae079b8b4c02bd"
   }
  }
 },
 "nbformat": 4,
 "nbformat_minor": 2
}
