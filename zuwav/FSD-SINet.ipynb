{
 "cells": [
  {
   "cell_type": "code",
   "execution_count": null,
   "metadata": {},
   "outputs": [],
   "source": [
    "import essentia\n",
    "print(essentia.__version__)\n",
    "\n",
    "# there are two operating modes in essentia which (mostly) have the same algorithms\n",
    "# they are accessible via two submodules:\n",
    "import essentia.standard\n",
    "import essentia.streaming\n",
    "\n",
    "# let's have a look at what is in there\n",
    "#print(dir(essentia.standard))"
   ]
  },
  {
   "cell_type": "code",
   "execution_count": null,
   "metadata": {},
   "outputs": [],
   "source": [
    "SERVER_TEST_PATH = '/raid/DATASETS/anomaly/XD_Violence/testing'"
   ]
  },
  {
   "cell_type": "code",
   "execution_count": null,
   "metadata": {},
   "outputs": [],
   "source": [
    "from essentia.standard import MonoLoader, TensorflowPredictFSDSINet\n",
    "\n",
    "filename = SERVER_TEST_PATH+\"\"\n",
    "graph_filename = \"fsd-sinet-vgg42-tlpf_aps-1.pb\"\n",
    "\n",
    "audio = MonoLoader(filename=filename, sampleRate=22050)()\n",
    "model = TensorflowPredictFSDSINet(graphFilename=graph_filename)\n",
    "\n",
    "activations = model(audio)\n"
   ]
  }
 ],
 "metadata": {
  "kernelspec": {
   "display_name": "zugpu",
   "language": "python",
   "name": "python3"
  },
  "language_info": {
   "codemirror_mode": {
    "name": "ipython",
    "version": 3
   },
   "file_extension": ".py",
   "mimetype": "text/x-python",
   "name": "python",
   "nbconvert_exporter": "python",
   "pygments_lexer": "ipython3",
   "version": "3.8.15"
  },
  "orig_nbformat": 4
 },
 "nbformat": 4,
 "nbformat_minor": 2
}
