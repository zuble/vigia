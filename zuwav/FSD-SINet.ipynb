{
 "cells": [
  {
   "cell_type": "code",
   "execution_count": null,
   "metadata": {},
   "outputs": [],
   "source": [
    "import essentia\n",
    "print(essentia.__version__)\n",
    "print(essentia.__file__)\n",
    "import essentia.standard , essentia.streaming\n",
    "from essentia.standard import MonoLoader, TensorflowPredictFSDSINet\n",
    "\n",
    "# let's have a look at what is in there\n",
    "#print(dir(essentia.standard))\n",
    "\n",
    "import utils.util as util\n",
    "\n",
    "import json\n",
    "import matplotlib.pyplot as plt\n",
    "import numpy as np"
   ]
  },
  {
   "cell_type": "code",
   "execution_count": null,
   "metadata": {},
   "outputs": [],
   "source": [
    "mp4_fn,mp4_labels,aac_fn,aac_labels = util.load_xdv_test()\n",
    "audio = MonoLoader(filename=aac_fn[17], sampleRate=22050)()"
   ]
  },
  {
   "cell_type": "code",
   "execution_count": null,
   "metadata": {},
   "outputs": [],
   "source": [
    "'''\n",
    "model files\n",
    "    https://essentia.upf.edu/models/audio-event-recognition/fsd-sinet/    \n",
    "    !wget -q https://essentia.upf.edu/models/audio-event-recognition/fsd-sinet/fsd-sinet-vgg41-tlpf-1.pb\n",
    "    !wget -q https://essentia.upf.edu/models/audio-event-recognition/fsd-sinet/fsd-sinet-vgg41-tlpf-1.json\n",
    "\n",
    "\n",
    "https://mtg.github.io/essentia-labs/news/tensorflow/2023/02/08/fsdsinet-models/\n",
    "    tlpf : Trainable Low-Pass Filters\n",
    "    aps : Adaptive Polyphase Sampling\n",
    "\n",
    "    fsd-sinet-vgg42-tlpf_aps-1 - best\n",
    "    fsd-sinet-vgg41-tlpf-1 - lighter\n",
    "'''\n",
    "\n",
    "graph_filename = \"/fsd-sinet-essentia/models/fsd-sinet-vgg42-aps-1.pb\"\n",
    "model = TensorflowPredictFSDSINet(graphFilename=graph_filename)\n",
    "\n",
    "predictions = model(audio)"
   ]
  },
  {
   "cell_type": "code",
   "execution_count": null,
   "metadata": {},
   "outputs": [],
   "source": [
    "def top_from_average(data, top_n=10):\n",
    "    av = np.mean(data, axis=1)\n",
    "    sorting = np.argsort(av)[::-1]\n",
    "    return sorting[:top_n], [av[i] for i in sorting]\n",
    "\n",
    "# Read the metadata\n",
    "metadata_file = \"/fsd-sinet-essentia/models/fsd-sinet-vgg42-aps-1.json\"\n",
    "metadata = json.load(open(metadata_file, \"r\"))\n",
    "labels = metadata[\"classes\"]\n",
    "\n",
    "for label, probability in zip(metadata['classes'], predictions.mean(axis=0)):\n",
    "    print(f'{label}: {100 * probability:.1f}%') \n"
   ]
  },
  {
   "cell_type": "code",
   "execution_count": null,
   "metadata": {},
   "outputs": [],
   "source": [
    "\n",
    "# Compute the top-n labels and predictions\n",
    "top_n, averages = top_from_average(predictions, top_n=15)\n",
    "top_labels = [labels[i] for i in top_n]\n",
    "top_labels_with_av = [\n",
    "    f\"{label} ({av:.3f})\" for label, av in zip(top_labels, averages)\n",
    "]\n",
    "\n",
    "top_predictions = np.array([predictions[i, :] for i in top_n])\n",
    "\n",
    "# Generate plots and improve formatting\n",
    "matfig = plt.figure(figsize=(8, 3))\n",
    "plt.matshow(top_predictions, fignum=matfig.number, aspect=\"auto\")\n",
    "\n",
    "plt.yticks(np.arange(len(top_labels_with_av)), top_labels_with_av)\n",
    "locs, _ = plt.xticks()\n",
    "ticks = np.array(locs // 2).astype(\"int\")\n",
    "plt.xticks(locs[1: -1], ticks[1: -1])\n",
    "plt.tick_params(\n",
    "    bottom=True, top=False, labelbottom=True, labeltop=False\n",
    ")\n",
    "plt.xlabel(\"(s)\")\n",
    "\n",
    "#plt.savefig(\"predictions.png\", bbox_inches='tight')\n"
   ]
  }
 ],
 "metadata": {
  "kernelspec": {
   "display_name": "zugpu",
   "language": "python",
   "name": "python3"
  },
  "language_info": {
   "codemirror_mode": {
    "name": "ipython",
    "version": 3
   },
   "file_extension": ".py",
   "mimetype": "text/x-python",
   "name": "python",
   "nbconvert_exporter": "python",
   "pygments_lexer": "ipython3",
   "version": "3.8.15"
  },
  "orig_nbformat": 4
 },
 "nbformat": 4,
 "nbformat_minor": 2
}
