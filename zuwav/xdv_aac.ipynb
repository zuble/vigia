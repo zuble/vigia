{
 "cells": [
  {
   "cell_type": "code",
   "execution_count": 1,
   "metadata": {},
   "outputs": [
    {
     "name": "stderr",
     "output_type": "stream",
     "text": [
      "2023-03-21 22:27:39.563637: I tensorflow/core/platform/cpu_feature_guard.cc:142] This TensorFlow binary is optimized with oneAPI Deep Neural Network Library (oneDNN) to use the following CPU instructions in performance-critical operations:  AVX2 FMA\n",
      "To enable them in other operations, rebuild TensorFlow with the appropriate compiler flags.\n"
     ]
    }
   ],
   "source": [
    "import os, sys , subprocess\n",
    "import essentia.standard , essentia.streaming"
   ]
  },
  {
   "cell_type": "code",
   "execution_count": 2,
   "metadata": {},
   "outputs": [],
   "source": [
    "SERVER_TEST_PATH = '/raid/DATASETS/anomaly/XD_Violence/testing'\n",
    "SERVER_TEST_AUD_PATH = '/raid/DATASETS/anomaly/XD_Violence/aud/testing'"
   ]
  },
  {
   "cell_type": "code",
   "execution_count": 3,
   "metadata": {},
   "outputs": [],
   "source": [
    "def load_xdv_test():\n",
    "\n",
    "    mp4_fn, mp4_labels = [],[]\n",
    "    for root, dirs, files in os.walk(SERVER_TEST_PATH):\n",
    "        for file in files:\n",
    "            if file.find('.mp4') != -1:\n",
    "                mp4_fn.append(os.path.join(root, file))\n",
    "                if 'label_A' in  file:mp4_labels.append(0)\n",
    "                else:mp4_labels.append(1)\n",
    "                \n",
    "    aac_fn, aac_labels = [],[]                            \n",
    "    for root, dirs, files in os.walk(SERVER_TEST_AUD_PATH):\n",
    "        for file in files:\n",
    "            if file.find('.aac') != -1:\n",
    "                aac_fn.append(os.path.join(root, file))\n",
    "                if 'label_A' in  file:aac_labels.append(0)\n",
    "                else:aac_labels.append(1)                \n",
    "    \n",
    "    return mp4_fn,mp4_labels,aac_fn,aac_labels\n",
    "\n",
    "mp4_fn,mp4_labels,aac_fn,aac_labels = load_xdv_test()"
   ]
  },
  {
   "cell_type": "code",
   "execution_count": 4,
   "metadata": {},
   "outputs": [],
   "source": [
    "def get_acodec_from_mp4(data):\n",
    "    for i in range(len(data)):\n",
    "        print(os.system('ffprobe -hide_banner -v error -select_streams a:0 -show_entries stream=codec_name,channels,sample_rate,bit_rate -of default=noprint_wrappers=1 -of compact=p=0:nk=1 '+str('\"'+data[i]+'\"')))\n",
    "    #os.system('ffprobe -hide_banner -show_streams -select_streams a:0 -i '+str('\"'+test_fn[1]+'\"'))\n",
    "    #os.system('ffprobe -hide_banner '+str('\"'+test_fn[1]+'\"'))\n",
    "\n",
    "#get_acodec_from_mp4(mp4_fn)\n",
    "#get_acodec_from_mp4(aac_fn)"
   ]
  },
  {
   "cell_type": "code",
   "execution_count": 5,
   "metadata": {},
   "outputs": [],
   "source": [
    "def conv_mp42aac(data,dry_run=True):\n",
    "    print(SERVER_TEST_AUD_PATH)\n",
    "    for i in range(len(data)):\n",
    "        out_fn = os.path.join(SERVER_TEST_AUD_PATH,os.path.splitext(os.path.basename(data[i]))[0]+'.aac')\n",
    "        print(\"\\nconverting \",os.path.basename(data[i]),'\\n\\t\\t\\t',os.path.basename(out_fn))\n",
    "\n",
    "        if not dry_run:\n",
    "            command = \"ffmpeg -hide_banner -v warning -i \"+str('\"'+data[i]+'\"')+\" -c:a copy \"+str('\"'+out_fn+'\"')\n",
    "            os.system(command)\n",
    "\n",
    "conv_mp42aac(mp4_fn,False)"
   ]
  },
  {
   "cell_type": "code",
   "execution_count": 6,
   "metadata": {},
   "outputs": [],
   "source": [
    "print(dir(essentia.standard))\n",
    "print(help(essentia.standard.MonoLoader))"
   ]
  }
 ],
 "metadata": {
  "kernelspec": {
   "display_name": "zugpu",
   "language": "python",
   "name": "python3"
  },
  "language_info": {
   "codemirror_mode": {
    "name": "ipython",
    "version": 3
   },
   "file_extension": ".py",
   "mimetype": "text/x-python",
   "name": "python",
   "nbconvert_exporter": "python",
   "pygments_lexer": "ipython3",
   "version": "3.8.15"
  },
  "orig_nbformat": 4
 },
 "nbformat": 4,
 "nbformat_minor": 2
}
