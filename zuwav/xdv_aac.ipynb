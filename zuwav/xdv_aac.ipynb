{
 "cells": [
  {
   "cell_type": "code",
   "execution_count": 1,
   "metadata": {},
   "outputs": [
    {
     "name": "stderr",
     "output_type": "stream",
     "text": [
      "2023-04-10 23:44:38.306393: I tensorflow/core/platform/cpu_feature_guard.cc:142] This TensorFlow binary is optimized with oneAPI Deep Neural Network Library (oneDNN) to use the following CPU instructions in performance-critical operations:  AVX2 FMA\n",
      "To enable them in other operations, rebuild TensorFlow with the appropriate compiler flags.\n"
     ]
    }
   ],
   "source": [
    "import os, subprocess , IPython\n",
    "import matplotlib.pyplot as plt\n",
    "import numpy as np\n",
    "\n",
    "import essentia.standard as es\n",
    "#import essentia.streaming\n",
    "\n",
    "import pylab  #plot, show, figure, imshow\n",
    "import cv2\n",
    "import moviepy.editor as mp\n",
    "\n",
    "import utils.util as util"
   ]
  },
  {
   "cell_type": "code",
   "execution_count": null,
   "metadata": {},
   "outputs": [],
   "source": [
    "''' HELPERS '''\n",
    "#print(dir(essentia.standard))\n",
    "#print(help(es.AudioLoader))"
   ]
  },
  {
   "cell_type": "code",
   "execution_count": null,
   "metadata": {},
   "outputs": [],
   "source": [
    "#mp4_paths,*_ = util.load_xdv_test(aac_path=util.SERVER_TEST_AUD_MONO_PATH)\n",
    "#out2 = util.print_acodec_from_mp4(mp4_paths,printt=True)"
   ]
  },
  {
   "cell_type": "code",
   "execution_count": null,
   "metadata": {},
   "outputs": [],
   "source": [
    "#mp4_paths,mp4_labels,aac_paths,aac_labels = util.load_xdv_test(aac_path=util.SERVER_TEST_AUD_MONO_PATH)\n",
    "#aacpath = aac_paths[44]\n",
    "#mp4path = mp4_paths[44]\n",
    "\n",
    "#IPython.display.Audio(aacpath)"
   ]
  },
  {
   "cell_type": "code",
   "execution_count": null,
   "metadata": {},
   "outputs": [],
   "source": [
    "''' writes 10 sec of audio from mp4 cv read synced'''\n",
    "def get_audio_from_mp4(path,start_t=0.0,end_t=10.0):\n",
    "\n",
    "    video = cv2.VideoCapture(path)\n",
    "    fps = video.get(cv2.CAP_PROP_FPS)\n",
    "\n",
    "    # Extract the audio from the video\n",
    "    audio = mp.AudioFileClip(path)\n",
    "    \n",
    "    while True:\n",
    "        \n",
    "        ret, frame = video.read()\n",
    "        if not ret:break\n",
    "        video_atual_frame = int(video.get(cv2.CAP_PROP_POS_FRAMES))\n",
    "        \n",
    "        start=video.get(cv2.CAP_PROP_POS_MSEC)/1000\n",
    "        end=(video.get(cv2.CAP_PROP_POS_MSEC)+1000/fps)/1000\n",
    "        print(\"1 frame sec start end\",start,end)\n",
    "        \n",
    "        if video_atual_frame == 240:\n",
    "\n",
    "            start=start_t\n",
    "            end=end_t\n",
    "            print(start,end)\n",
    "            \n",
    "            audio_frame = audio.subclip(t_start=start,t_end=end)\n",
    "            audio_array = np.array(audio_frame.to_soundarray())\n",
    "            \n",
    "            nsamples = np.shape(audio_array)[0]\n",
    "            secs = end-start\n",
    "            sample_rate = nsamples / secs\n",
    "            print(audio_array.dtype,np.shape(audio_array) , sample_rate)\n",
    "            \n",
    "            # 1 transform stereo to mono\n",
    "            audio_array_mono = np.mean(audio_array, axis=1)\n",
    "            es.MonoWriter(filename='audio_mono.wav',sampleRate = int(sample_rate))(audio_array_mono)\n",
    "            \n",
    "            # 2 save as stereo\n",
    "            es.AudioWriter(filename='audio_stereo.wav',sampleRate = int(sample_rate))(audio_array)\n",
    "            \n",
    "            break\n",
    "\n",
    "        cv2.imshow('frame', frame)\n",
    "        if cv2.waitKey(1) & 0xFF == ord('q'):\n",
    "            break\n",
    "\n",
    "    video.release()\n",
    "    cv2.destroyAllWindows()\n",
    "    \n",
    "    \n",
    "#get_audio_from_mp4(mp4path)"
   ]
  },
  {
   "cell_type": "code",
   "execution_count": 4,
   "metadata": {},
   "outputs": [
    {
     "name": "stdout",
     "output_type": "stream",
     "text": [
      "Filtered file paths:\n",
      "/raid/DATASETS/anomaly/XD_Violence/training_copy/v=xyz789#1_label_G-0-0.mp4\n",
      "/raid/DATASETS/anomaly/XD_Violence/training_copy/v=abc123#1_label_G-0-0.mp4\n"
     ]
    }
   ],
   "source": [
    "import os\n",
    "\n",
    "\n",
    "# Define the file paths from the previous list and the new list\n",
    "previous_list = [\n",
    "    \"/raid/DATASETS/anomaly/XD_Violence/training_copy/v=IhU6jml6NY4__#1_label_G-0-0.mp4\",\n",
    "    \"/raid/DATASETS/anomaly/XD_Violence/training_copy/v=abc123#1_label_G-0-0.mp4\",\n",
    "    \"/raid/DATASETS/anomaly/XD_Violence/training_copy/v=def456#1_label_G-0-0.mp4\"\n",
    "]\n",
    "new_list = [\n",
    "    \"/raid/DATASETS/anomaly/XD_Violence/training_copy/v=xyz789#1_label_G-0-0.mp4\",\n",
    "    \"/raid/DATASETS/anomaly/XD_Violence/training_copy/v=abc123#1_label_G-0-0.mp4\"\n",
    "]\n",
    "\n",
    "# Extract the video identifier from each file path in the new list\n",
    "new_video_identifiers = set()\n",
    "for new_path in new_list:\n",
    "    video_identifier = os.path.basename(new_path).split(\"_\")[0].split(\"=\")[1]\n",
    "    new_video_identifiers.add(video_identifier)\n",
    "\n",
    "# Loop through the previous list and exclude files with matching video identifiers\n",
    "exclude_list = []\n",
    "for prev_path in previous_list:\n",
    "    video_identifier = os.path.basename(prev_path).split(\"_\")[0].split(\"=\")[1]\n",
    "    if video_identifier in new_video_identifiers:\n",
    "        exclude_list.append(prev_path)\n",
    "\n",
    "# Create a filtered list of file paths from the new list\n",
    "filtered_list = [new_path for new_path in new_list\n",
    "                 if os.path.basename(new_path) not in exclude_list]\n",
    "\n",
    "# Print the filtered file paths\n",
    "print(\"Filtered file paths:\")\n",
    "for filtered_path in filtered_list:\n",
    "    print(filtered_path)"
   ]
  }
 ],
 "metadata": {
  "kernelspec": {
   "display_name": "zugpu",
   "language": "python",
   "name": "python3"
  },
  "language_info": {
   "codemirror_mode": {
    "name": "ipython",
    "version": 3
   },
   "file_extension": ".py",
   "mimetype": "text/x-python",
   "name": "python",
   "nbconvert_exporter": "python",
   "pygments_lexer": "ipython3",
   "version": "3.8.15"
  },
  "orig_nbformat": 4,
  "vscode": {
   "interpreter": {
    "hash": "8f7bf267530dde59ab6764f0eb5f1b22dea8a9c4ca62db1182ae079b8b4c02bd"
   }
  }
 },
 "nbformat": 4,
 "nbformat_minor": 2
}
