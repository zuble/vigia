{
 "cells": [
  {
   "cell_type": "code",
   "execution_count": null,
   "metadata": {},
   "outputs": [],
   "source": [
    "import os, time, random, logging , datetime , cv2 , csv , subprocess\n",
    "import numpy as np\n",
    "\n",
    "import tensorflow as tf\n",
    "print(\"tf\",tf.version.VERSION)\n",
    "from tensorflow import keras\n",
    "\n",
    "from utils import globo ,  xdv , tfh5\n",
    "\n",
    "\n",
    "''' GPU CONFIGURATION '''\n",
    "\n",
    "tfh5.set_tf_loglevel(logging.ERROR)\n",
    "tfh5.tf.debugging.set_log_device_placement(False) #Enabling device placement logging causes any Tensor allocations or operations to be printed.\n",
    "tfh5.set_memory_growth()\n",
    "os.environ['TF_FORCE_GPU_ALLOW_GROWTH'] = 'true'\n",
    "os.environ[\"CUDA_VISIBLE_DEVICES\"]=\"1,2\""
   ]
  },
  {
   "cell_type": "code",
   "execution_count": null,
   "metadata": {},
   "outputs": [],
   "source": [
    "''' TRAIN & VALDT '''\n",
    "#train_fn, train_labels, train_tot_frames, valdt_fn, valdt_labels , valdt_tot_frames = xdv.train_valdt_files(tframes=True)\n",
    "train_fn, train_labels, valdt_fn, valdt_labels = xdv.train_valdt_files()\n",
    "\n",
    "update_index_train = range(0, len(train_fn))\n",
    "update_index_valdt = range(0, len(valdt_fn))"
   ]
  },
  {
   "cell_type": "code",
   "execution_count": null,
   "metadata": {},
   "outputs": [],
   "source": [
    "''' CONFIGS '''\n",
    "\n",
    "train_config = {\n",
    "    \"frame_step\":2, #24 fps -> 12\n",
    "    \n",
    "    \"in_height\":120,\n",
    "    \"in_width\":160,\n",
    "    \n",
    "    \"batch_size\":1,\n",
    "    \"augment\":True,\n",
    "    \"shuffle\":False,\n",
    "    \n",
    "    \"ativa\" : 'leakyrelu',\n",
    "    \"optima\" : 'sgd',\n",
    "    \"batch_type\" : 0,   # =0 all batch have frame_max or video length // =1 last batch has frame_max frames // =2 last batch has no repetead frames\n",
    "    \"frame_max\" : 8000,\n",
    "    \"ckpt_start\" : f\"{0:0>8}\",  #used in train_model: if 00000000 start from scratch, else start from ckpt with config stated\n",
    "    \n",
    "    \"epochs\" : 1\n",
    "}\n"
   ]
  }
 ],
 "metadata": {
  "kernelspec": {
   "display_name": "zugpu",
   "language": "python",
   "name": "python3"
  },
  "language_info": {
   "codemirror_mode": {
    "name": "ipython",
    "version": 3
   },
   "file_extension": ".py",
   "mimetype": "text/x-python",
   "name": "python",
   "nbconvert_exporter": "python",
   "pygments_lexer": "ipython3",
   "version": "3.8.15"
  },
  "orig_nbformat": 4
 },
 "nbformat": 4,
 "nbformat_minor": 2
}
