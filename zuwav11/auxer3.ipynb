{
 "cells": [
  {
   "cell_type": "code",
   "execution_count": null,
   "metadata": {},
   "outputs": [],
   "source": [
    "import os, time, random, logging , datetime , cv2 , csv , subprocess , json , math\n",
    "import numpy as np\n",
    "\n",
    "from utils import globo , xdv , tfh5 , sinet\n",
    "\n",
    "\n",
    "\n",
    "CFG_SINET = {\n",
    "    \n",
    "    'sinet_version': 'fsd-sinet-vgg42-tlpf_aps-1',\n",
    "    \n",
    "    'graph_filename' : os.path.join(globo.FSDSINET_PATH,\"fsd-sinet-vgg42-tlpf_aps-1.pb\"),\n",
    "    'metadata_file'  : os.path.join(globo.FSDSINET_PATH,\"fsd-sinet-vgg42-tlpf_aps-1.json\"),\n",
    "    \n",
    "    'audio_fs_input':22050,\n",
    "    'batchSize' : 64,\n",
    "    'lastPatchMode': 'repeat',\n",
    "    'patchHopSize' : 50,\n",
    "    \n",
    "    \n",
    "    'anom_labels' : [\"Alarm\",\"Boom\",\"Crowd\",\"Dog\",\"Drill\",\"Explosion\",\"Fire\",\"Gunshot and gunfire\",\"Hammer\",\"Screaming\",\"Screech\",\\\n",
    "                    \"Shatter\",\"Shout\",\"Siren\",\"Slam\",\"Squeak\",\"Yell\"],\n",
    "    'anom_labels_i' : [4,18,51,59,65,72,78,92,94,145,146,147,148,152,154,161,198],\n",
    "    \n",
    "    'anom_labels2' : [\"Boom\",\"Explosion\",\"Fire\",\"Gunshot and gunfire\",\"Screaming\",\\\n",
    "                    \"Shout\",\"Siren\",\"Yell\"],\n",
    "    'anom_labels_i2' : [18,72,78,92,147,148,152,198],\n",
    "    \n",
    "    'full_or_max' : 'max', #chose output to (timesteps,labels_total) ot (1,labels_total)\n",
    "    'labels_total' : 200\n",
    "    \n",
    "}\n"
   ]
  },
  {
   "cell_type": "code",
   "execution_count": null,
   "metadata": {},
   "outputs": [],
   "source": [
    "frame_intervals , time_intervals = xdv.get_frame_intervals_chuncked_from_test_bg()\n",
    "data = xdv.divide_into_train_valdt_test(frame_intervals)"
   ]
  },
  {
   "cell_type": "code",
   "execution_count": null,
   "metadata": {},
   "outputs": [],
   "source": [
    "train_intervals = sum(np.shape(data[\"train\"][k][1])[0] for k in range(len(data[\"train\"])))"
   ]
  },
  {
   "cell_type": "code",
   "execution_count": null,
   "metadata": {},
   "outputs": [],
   "source": [
    "full_train_fn = []\n",
    "\n",
    "for root, dirs, files in os.walk(globo.SERVER_TRAIN_COPY_ALTER_PATH1):\n",
    "    if root != globo.SERVER_TRAIN_COPY_ALTER_PATH1 + '/NN' : ## these are excluded from xdv train dataset\n",
    "        print(root)\n",
    "        for file in files:\n",
    "            if file.find('.mp4') != -1:\n",
    "                full_train_fn.append(os.path.join(root, file))\n",
    "print(np.shape(full_train_fn))"
   ]
  },
  {
   "cell_type": "code",
   "execution_count": null,
   "metadata": {},
   "outputs": [],
   "source": [
    "## to do \n",
    "## filter full_train_fn to only have normal videos\n",
    "\n",
    "fixed_interval_size = 4 * 24  # 5 seconds * 24 fps\n",
    "\n",
    "def get_random_fixed_interval(video_path, interval_size):\n",
    "    cap = cv2.VideoCapture(video_path)\n",
    "    \n",
    "    if not cap.isOpened():\n",
    "        print(f\"Error: Could not open the video file {video_path}\")\n",
    "        return None\n",
    "    \n",
    "    total_frames = int(cap.get(cv2.CAP_PROP_FRAME_COUNT))\n",
    "    fps = int(cap.get(cv2.CAP_PROP_FPS))\n",
    "    \n",
    "    if total_frames < interval_size:\n",
    "        print(f\"Error: Video {video_path} has fewer frames than the fixed interval size.\")\n",
    "        return None\n",
    "    \n",
    "    start_frame = random.randint(0, total_frames - interval_size)\n",
    "    end_frame = start_frame + interval_size\n",
    "\n",
    "    cap.release()\n",
    "\n",
    "    return (start_frame, end_frame)\n",
    "\n",
    "collected_intervals = []\n",
    "total_intervals_collected = 0\n",
    "interval_limit = 0\n",
    "\n",
    "while total_intervals_collected < train_intervals and interval_limit < 1000:\n",
    "    for video_path in full_train_fn:\n",
    "        if total_intervals_collected >= train_intervals:\n",
    "            break\n",
    "        video_intervals = []\n",
    "        num_intervals = random.randint(1, 10)\n",
    "        for _ in range(num_intervals):\n",
    "            interval = get_random_fixed_interval(video_path, fixed_interval_size)\n",
    "            if interval is not None:\n",
    "                video_intervals.append(interval)\n",
    "                total_intervals_collected += 1\n",
    "            if total_intervals_collected >= train_intervals:\n",
    "                break\n",
    "        collected_intervals.append((video_path, video_intervals))\n",
    "        interval_limit += 1\n",
    "\n",
    "print(\"Collected intervals:\")\n",
    "for index, item in enumerate(collected_intervals):\n",
    "    print(f\"{index + 1}. Video: {item[0]}, Intervals: {item[1]}\")"
   ]
  },
  {
   "cell_type": "code",
   "execution_count": null,
   "metadata": {},
   "outputs": [],
   "source": []
  }
 ],
 "metadata": {
  "kernelspec": {
   "display_name": "zugpu",
   "language": "python",
   "name": "python3"
  },
  "language_info": {
   "codemirror_mode": {
    "name": "ipython",
    "version": 3
   },
   "file_extension": ".py",
   "mimetype": "text/x-python",
   "name": "python",
   "nbconvert_exporter": "python",
   "pygments_lexer": "ipython3",
   "version": "3.8.15"
  },
  "orig_nbformat": 4
 },
 "nbformat": 4,
 "nbformat_minor": 2
}
