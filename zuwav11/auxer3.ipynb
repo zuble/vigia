{
 "cells": [
  {
   "cell_type": "code",
   "execution_count": null,
   "metadata": {},
   "outputs": [],
   "source": [
    "import os, time, random, logging , datetime , cv2 , csv , subprocess , json , math\n",
    "import numpy as np\n",
    "\n",
    "from utils import globo , xdv , tfh5 , sinet\n",
    "\n",
    "\n",
    "CFG_SINET = {\n",
    "    \n",
    "    'sinet_version': 'fsd-sinet-vgg42-tlpf_aps-1',\n",
    "    \n",
    "    'graph_filename' : os.path.join(globo.FSDSINET_PATH,\"fsd-sinet-vgg42-tlpf_aps-1.pb\"),\n",
    "    'metadata_file'  : os.path.join(globo.FSDSINET_PATH,\"fsd-sinet-vgg42-tlpf_aps-1.json\"),\n",
    "    \n",
    "    'audio_fs_input':22050,\n",
    "    'batchSize' : 64,\n",
    "    'lastPatchMode': 'repeat',\n",
    "    'patchHopSize' : 50,\n",
    "    \n",
    "    \n",
    "    'anom_labels' : [\"Alarm\",\"Boom\",\"Crowd\",\"Dog\",\"Drill\",\"Explosion\",\"Fire\",\"Gunshot and gunfire\",\"Hammer\",\"Screaming\",\"Screech\",\\\n",
    "                    \"Shatter\",\"Shout\",\"Siren\",\"Slam\",\"Squeak\",\"Yell\"],\n",
    "    'anom_labels_i' : [4,18,51,59,65,72,78,92,94,145,146,147,148,152,154,161,198],\n",
    "    \n",
    "    'anom_labels2' : [\"Boom\",\"Explosion\",\"Fire\",\"Gunshot and gunfire\",\"Screaming\",\\\n",
    "                    \"Shout\",\"Siren\",\"Yell\"],\n",
    "    'anom_labels_i2' : [18,72,78,92,147,148,152,198],\n",
    "    \n",
    "    'full_or_max' : 'full', #chose output to (timesteps,labels_total) ot (1,labels_total)\n",
    "    'labels_total' : 200\n",
    "    \n",
    "}\n"
   ]
  },
  {
   "cell_type": "code",
   "execution_count": null,
   "metadata": {},
   "outputs": [],
   "source": [
    "#xdv.create_train_valdt_test_from_xdvtest_bg_train_a(True)"
   ]
  },
  {
   "cell_type": "code",
   "execution_count": null,
   "metadata": {},
   "outputs": [],
   "source": [
    "data = np.load(os.path.join(globo.SERVER_TEST_COPY_PATH,'npy/dataset_from_xdvtest_bg_train_a_data.npy'), allow_pickle=True).item()\n",
    "sinet = sinet.Sinet(CFG_SINET)"
   ]
  },
  {
   "cell_type": "code",
   "execution_count": null,
   "metadata": {},
   "outputs": [],
   "source": [
    "p_es_arr = sinet.get_sigmoid(data[\"train\"][4886][0], \\\n",
    "    data[\"train\"][4886][1][:2][0], \\\n",
    "    data[\"train\"][4886][1][:2][1], debug=True)"
   ]
  },
  {
   "cell_type": "code",
   "execution_count": null,
   "metadata": {},
   "outputs": [],
   "source": [
    "model_wav_shape = np.shape(p_es_arr)\n",
    "print(\"test sinet call shape\",model_wav_shape)\n",
    "label = data[\"train\"][0][1][2]\n",
    "\n",
    "\n",
    "X_aux, y_aux = [] , []\n",
    "        \n",
    "X_aux.append(p_es_arr)\n",
    "y_aux.append(label)\n",
    "\n",
    "print(np.shape(X_aux), np.shape(y_aux))\n",
    "# Stack the results into numpy arrays\n",
    "X_batch = np.stack(X_aux, axis=0)  # Shape: (batch_size, timesteps, params[\"sinet_aas_len\"])\n",
    "y_batch = np.array(y_aux).reshape(-1, 1)  # Shape: (batch_size, 1)\n",
    "print(np.shape(X_batch), np.shape(y_batch))"
   ]
  },
  {
   "cell_type": "code",
   "execution_count": 9,
   "metadata": {},
   "outputs": [],
   "source": [
    "data_dict = {'train': [], 'valdt': [], 'test': []}"
   ]
  },
  {
   "cell_type": "code",
   "execution_count": null,
   "metadata": {},
   "outputs": [],
   "source": [
    "data['train']"
   ]
  },
  {
   "cell_type": "code",
   "execution_count": 10,
   "metadata": {},
   "outputs": [
    {
     "name": "stdout",
     "output_type": "stream",
     "text": [
      "train\n",
      "valdt\n",
      "test\n"
     ]
    }
   ],
   "source": [
    "for tyy in data_dict:\n",
    "    print(tyy)"
   ]
  }
 ],
 "metadata": {
  "kernelspec": {
   "display_name": "Python 3",
   "language": "python",
   "name": "python3"
  },
  "language_info": {
   "codemirror_mode": {
    "name": "ipython",
    "version": 3
   },
   "file_extension": ".py",
   "mimetype": "text/x-python",
   "name": "python",
   "nbconvert_exporter": "python",
   "pygments_lexer": "ipython3",
   "version": "3.8.15"
  },
  "orig_nbformat": 4
 },
 "nbformat": 4,
 "nbformat_minor": 2
}
